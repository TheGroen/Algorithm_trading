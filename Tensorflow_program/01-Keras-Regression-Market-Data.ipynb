{
 "cells": [
  {
   "cell_type": "code",
   "execution_count": 1,
   "metadata": {},
   "outputs": [],
   "source": [
    "import pandas as pd\n",
    "import numpy as np\n",
    "import matplotlib.pyplot as plt\n",
    "import seaborn as sns\n",
    "import MetaTrader5 as mt5\n",
    "from datetime import datetime"
   ]
  },
  {
   "cell_type": "code",
   "execution_count": 2,
   "metadata": {},
   "outputs": [
    {
     "output_type": "stream",
     "name": "stdout",
     "text": [
      "TerminalInfo(community_account=True, community_connection=True, connected=True, dlls_allowed=True, trade_allowed=False, tradeapi_disabled=False, email_enabled=False, ftp_enabled=False, notifications_enabled=False, mqid=True, build=2950, maxbars=100000, codepage=0, ping_last=180952, community_balance=0.0, retransmission=0.03784613443787978, company='MetaQuotes Software Corp.', name='MetaTrader', language='English', path='C:\\\\Program Files\\\\MetaTrader', data_path='C:\\\\Users\\\\JacobsEb\\\\AppData\\\\Roaming\\\\MetaQuotes\\\\Terminal\\\\F762D69EEEA9B4430D7F17C82167C844', commondata_path='C:\\\\Users\\\\JacobsEb\\\\AppData\\\\Roaming\\\\MetaQuotes\\\\Terminal\\\\Common')\n"
     ]
    }
   ],
   "source": [
    "## Setting up MetaTrader \n",
    "Symbol_Trade = \"GBPUSD\"\n",
    "TimeFrame = mt5.TIMEFRAME_M15\n",
    "account_no1 = 28829869\n",
    "account_password_no1 = \"DemoStrategy101\"\n",
    "\n",
    "mt5.initialize(login=account_no1, server=\"Exness-MT5Trial\",password=account_password_no1)\n",
    "\n",
    "if not mt5.initialize(login=account_no1, server=\"Exness-MT5Trial\",password=account_password_no1):\n",
    "    print(\"initialize() failed\")\n",
    "    mt5.shutdown()\n",
    "\n",
    "print(mt5.terminal_info())\n"
   ]
  },
  {
   "cell_type": "code",
   "execution_count": 3,
   "metadata": {},
   "outputs": [
    {
     "output_type": "stream",
     "name": "stdout",
     "text": [
      "           time     open     high      low    close  tick_volume  spread  \\\n0    1623818700  1.40884  1.40891  1.40872  1.40875           87       5   \n1    1623819600  1.40875  1.40892  1.40862  1.40882          191       5   \n2    1623820500  1.40882  1.40903  1.40851  1.40894          207       5   \n3    1623821400  1.40894  1.40924  1.40884  1.40914          189       5   \n4    1623822300  1.40914  1.40924  1.40866  1.40883          302       5   \n..          ...      ...      ...      ...      ...          ...     ...   \n195  1623994200  1.38987  1.39011  1.38947  1.38996          507       5   \n196  1623995100  1.38996  1.39063  1.38993  1.39030          556       5   \n197  1623996000  1.39032  1.39039  1.38874  1.38948         1027       5   \n198  1623996900  1.38946  1.38991  1.38795  1.38866          985       5   \n199  1623997800  1.38866  1.38869  1.38776  1.38832          715       5   \n\n     real_volume  \n0              0  \n1              0  \n2              0  \n3              0  \n4              0  \n..           ...  \n195            0  \n196            0  \n197            0  \n198            0  \n199            0  \n\n[200 rows x 8 columns]\n"
     ]
    }
   ],
   "source": [
    "## Importing Data on symbol pair from MT5\n",
    "ticks_rates=mt5.copy_rates_from(Symbol_Trade,mt5.TIMEFRAME_M15,datetime.now(),200)\n",
    "df_market = pd.DataFrame(ticks_rates)\n",
    "print(df_market)"
   ]
  },
  {
   "cell_type": "code",
   "execution_count": 5,
   "metadata": {},
   "outputs": [
    {
     "output_type": "stream",
     "name": "stdout",
     "text": [
      "<class 'pandas.core.frame.DataFrame'>\nRangeIndex: 200 entries, 0 to 199\nData columns (total 8 columns):\n #   Column       Non-Null Count  Dtype  \n---  ------       --------------  -----  \n 0   time         200 non-null    int64  \n 1   open         200 non-null    float64\n 2   high         200 non-null    float64\n 3   low          200 non-null    float64\n 4   close        200 non-null    float64\n 5   tick_volume  200 non-null    uint64 \n 6   spread       200 non-null    int32  \n 7   real_volume  200 non-null    uint64 \ndtypes: float64(4), int32(1), int64(1), uint64(2)\nmemory usage: 11.8 KB\n"
     ]
    }
   ],
   "source": [
    "df_market.info()"
   ]
  },
  {
   "cell_type": "code",
   "execution_count": 8,
   "metadata": {},
   "outputs": [
    {
     "output_type": "execute_result",
     "data": {
      "text/plain": [
       "         time     open     high      low    close  tick_volume  spread  \\\n",
       "0  1623818700  1.40884  1.40891  1.40872  1.40875           87       5   \n",
       "1  1623819600  1.40875  1.40892  1.40862  1.40882          191       5   \n",
       "2  1623820500  1.40882  1.40903  1.40851  1.40894          207       5   \n",
       "3  1623821400  1.40894  1.40924  1.40884  1.40914          189       5   \n",
       "4  1623822300  1.40914  1.40924  1.40866  1.40883          302       5   \n",
       "\n",
       "   real_volume  \n",
       "0            0  \n",
       "1            0  \n",
       "2            0  \n",
       "3            0  \n",
       "4            0  "
      ],
      "text/html": "<div>\n<style scoped>\n    .dataframe tbody tr th:only-of-type {\n        vertical-align: middle;\n    }\n\n    .dataframe tbody tr th {\n        vertical-align: top;\n    }\n\n    .dataframe thead th {\n        text-align: right;\n    }\n</style>\n<table border=\"1\" class=\"dataframe\">\n  <thead>\n    <tr style=\"text-align: right;\">\n      <th></th>\n      <th>time</th>\n      <th>open</th>\n      <th>high</th>\n      <th>low</th>\n      <th>close</th>\n      <th>tick_volume</th>\n      <th>spread</th>\n      <th>real_volume</th>\n    </tr>\n  </thead>\n  <tbody>\n    <tr>\n      <th>0</th>\n      <td>1623818700</td>\n      <td>1.40884</td>\n      <td>1.40891</td>\n      <td>1.40872</td>\n      <td>1.40875</td>\n      <td>87</td>\n      <td>5</td>\n      <td>0</td>\n    </tr>\n    <tr>\n      <th>1</th>\n      <td>1623819600</td>\n      <td>1.40875</td>\n      <td>1.40892</td>\n      <td>1.40862</td>\n      <td>1.40882</td>\n      <td>191</td>\n      <td>5</td>\n      <td>0</td>\n    </tr>\n    <tr>\n      <th>2</th>\n      <td>1623820500</td>\n      <td>1.40882</td>\n      <td>1.40903</td>\n      <td>1.40851</td>\n      <td>1.40894</td>\n      <td>207</td>\n      <td>5</td>\n      <td>0</td>\n    </tr>\n    <tr>\n      <th>3</th>\n      <td>1623821400</td>\n      <td>1.40894</td>\n      <td>1.40924</td>\n      <td>1.40884</td>\n      <td>1.40914</td>\n      <td>189</td>\n      <td>5</td>\n      <td>0</td>\n    </tr>\n    <tr>\n      <th>4</th>\n      <td>1623822300</td>\n      <td>1.40914</td>\n      <td>1.40924</td>\n      <td>1.40866</td>\n      <td>1.40883</td>\n      <td>302</td>\n      <td>5</td>\n      <td>0</td>\n    </tr>\n  </tbody>\n</table>\n</div>"
     },
     "metadata": {},
     "execution_count": 8
    }
   ],
   "source": [
    "df_market.head()"
   ]
  },
  {
   "cell_type": "code",
   "execution_count": 9,
   "metadata": {},
   "outputs": [],
   "source": [
    "df_market['time']=pd.to_datetime(df_market['time'], unit= 's')   "
   ]
  },
  {
   "cell_type": "code",
   "execution_count": 13,
   "metadata": {},
   "outputs": [
    {
     "output_type": "execute_result",
     "data": {
      "text/plain": [
       "(0      1.40875\n",
       " 1      1.40882\n",
       " 2      1.40894\n",
       " 3      1.40914\n",
       " 4      1.40883\n",
       "         ...   \n",
       " 195    1.38996\n",
       " 196    1.39030\n",
       " 197    1.38948\n",
       " 198    1.38866\n",
       " 199    1.38832\n",
       " Name: close, Length: 200, dtype: float64,\n",
       "         open     high      low  tick_volume\n",
       " 0    1.40884  1.40891  1.40872           87\n",
       " 1    1.40875  1.40892  1.40862          191\n",
       " 2    1.40882  1.40903  1.40851          207\n",
       " 3    1.40894  1.40924  1.40884          189\n",
       " 4    1.40914  1.40924  1.40866          302\n",
       " ..       ...      ...      ...          ...\n",
       " 195  1.38987  1.39011  1.38947          507\n",
       " 196  1.38996  1.39063  1.38993          556\n",
       " 197  1.39032  1.39039  1.38874         1027\n",
       " 198  1.38946  1.38991  1.38795          985\n",
       " 199  1.38866  1.38869  1.38776          715\n",
       " \n",
       " [200 rows x 4 columns])"
      ]
     },
     "metadata": {},
     "execution_count": 13
    }
   ],
   "source": [
    "X = df_market.drop(['time','close','real_volume','spread'], axis = 1)\n",
    "y = df_market.drop(['time','real_volume', 'spread'], axis=1)['close']\n",
    "y , X"
   ]
  },
  {
   "cell_type": "code",
   "execution_count": 14,
   "metadata": {},
   "outputs": [],
   "source": [
    "from sklearn.model_selection import train_test_split"
   ]
  },
  {
   "cell_type": "code",
   "execution_count": 16,
   "metadata": {},
   "outputs": [],
   "source": [
    "X_train, X_test, y_train, y_test = train_test_split(X,y,test_size=0.3,random_state=101)"
   ]
  },
  {
   "cell_type": "markdown",
   "metadata": {},
   "source": [
    "### Scaling"
   ]
  },
  {
   "cell_type": "code",
   "execution_count": 17,
   "metadata": {},
   "outputs": [],
   "source": [
    "from sklearn.preprocessing import MinMaxScaler\n",
    "from sklearn import *"
   ]
  },
  {
   "cell_type": "code",
   "execution_count": 18,
   "metadata": {},
   "outputs": [],
   "source": [
    "scaler = MinMaxScaler()"
   ]
  },
  {
   "cell_type": "code",
   "execution_count": 19,
   "metadata": {},
   "outputs": [],
   "source": [
    "X_train= scaler.fit_transform(X_train)"
   ]
  },
  {
   "cell_type": "code",
   "execution_count": 20,
   "metadata": {},
   "outputs": [],
   "source": [
    "X_test = scaler.transform(X_test)"
   ]
  },
  {
   "cell_type": "code",
   "execution_count": 21,
   "metadata": {},
   "outputs": [
    {
     "output_type": "execute_result",
     "data": {
      "text/plain": [
       "(140, 4)"
      ]
     },
     "metadata": {},
     "execution_count": 21
    }
   ],
   "source": [
    "X_train.shape"
   ]
  },
  {
   "cell_type": "code",
   "execution_count": 22,
   "metadata": {},
   "outputs": [
    {
     "output_type": "execute_result",
     "data": {
      "text/plain": [
       "(60, 4)"
      ]
     },
     "metadata": {},
     "execution_count": 22
    }
   ],
   "source": [
    "X_test.shape"
   ]
  },
  {
   "cell_type": "markdown",
   "metadata": {},
   "source": [
    "## Creating a Model"
   ]
  },
  {
   "cell_type": "code",
   "execution_count": 23,
   "metadata": {},
   "outputs": [],
   "source": [
    "from tensorflow.keras.models import Sequential\n",
    "from tensorflow.keras.layers import Dense, Activation\n",
    "from tensorflow.keras.optimizers import Adam"
   ]
  },
  {
   "cell_type": "code",
   "execution_count": 24,
   "metadata": {},
   "outputs": [],
   "source": [
    "model = Sequential()\n",
    "\n",
    "model.add(Dense(19,activation='relu'))\n",
    "model.add(Dense(19,activation='relu'))\n",
    "model.add(Dense(19,activation='relu'))\n",
    "model.add(Dense(19,activation='relu'))\n",
    "model.add(Dense(1))\n",
    "\n",
    "model.compile(optimizer='adam',loss='mse')"
   ]
  },
  {
   "cell_type": "markdown",
   "metadata": {},
   "source": [
    "## Training the Model"
   ]
  },
  {
   "cell_type": "code",
   "execution_count": 25,
   "metadata": {
    "tags": [
     "outputPrepend"
    ]
   },
   "outputs": [
    {
     "output_type": "stream",
     "name": "stdout",
     "text": [
      "[==============================] - 0s 8ms/step - loss: 1.8165e-04 - val_loss: 1.2018e-04\n",
      "Epoch 216/400\n",
      "2/2 [==============================] - 0s 8ms/step - loss: 1.7976e-04 - val_loss: 1.1891e-04\n",
      "Epoch 217/400\n",
      "2/2 [==============================] - 0s 11ms/step - loss: 1.7456e-04 - val_loss: 1.1803e-04\n",
      "Epoch 218/400\n",
      "2/2 [==============================] - 0s 9ms/step - loss: 1.6965e-04 - val_loss: 1.1806e-04\n",
      "Epoch 219/400\n",
      "2/2 [==============================] - 0s 9ms/step - loss: 1.6490e-04 - val_loss: 1.2006e-04\n",
      "Epoch 220/400\n",
      "2/2 [==============================] - 0s 9ms/step - loss: 1.6123e-04 - val_loss: 1.3179e-04\n",
      "Epoch 221/400\n",
      "2/2 [==============================] - 0s 10ms/step - loss: 1.6297e-04 - val_loss: 1.4479e-04\n",
      "Epoch 222/400\n",
      "2/2 [==============================] - 0s 10ms/step - loss: 1.6661e-04 - val_loss: 1.3184e-04\n",
      "Epoch 223/400\n",
      "2/2 [==============================] - 0s 9ms/step - loss: 1.5960e-04 - val_loss: 1.1500e-04\n",
      "Epoch 224/400\n",
      "2/2 [==============================] - 0s 10ms/step - loss: 1.5516e-04 - val_loss: 1.1051e-04\n",
      "Epoch 225/400\n",
      "2/2 [==============================] - 0s 11ms/step - loss: 1.5972e-04 - val_loss: 1.1032e-04\n",
      "Epoch 226/400\n",
      "2/2 [==============================] - 0s 11ms/step - loss: 1.6264e-04 - val_loss: 1.0868e-04\n",
      "Epoch 227/400\n",
      "2/2 [==============================] - 0s 10ms/step - loss: 1.5634e-04 - val_loss: 1.1406e-04\n",
      "Epoch 228/400\n",
      "2/2 [==============================] - 0s 9ms/step - loss: 1.5042e-04 - val_loss: 1.2854e-04\n",
      "Epoch 229/400\n",
      "2/2 [==============================] - 0s 11ms/step - loss: 1.5146e-04 - val_loss: 1.3988e-04\n",
      "Epoch 230/400\n",
      "2/2 [==============================] - 0s 10ms/step - loss: 1.5518e-04 - val_loss: 1.4304e-04\n",
      "Epoch 231/400\n",
      "2/2 [==============================] - 0s 9ms/step - loss: 1.5580e-04 - val_loss: 1.3563e-04\n",
      "Epoch 232/400\n",
      "2/2 [==============================] - 0s 10ms/step - loss: 1.5182e-04 - val_loss: 1.2733e-04\n",
      "Epoch 233/400\n",
      "2/2 [==============================] - 0s 10ms/step - loss: 1.4966e-04 - val_loss: 1.2386e-04\n",
      "Epoch 234/400\n",
      "2/2 [==============================] - 0s 10ms/step - loss: 1.4784e-04 - val_loss: 1.3189e-04\n",
      "Epoch 235/400\n",
      "2/2 [==============================] - 0s 12ms/step - loss: 1.4956e-04 - val_loss: 1.2754e-04\n",
      "Epoch 236/400\n",
      "2/2 [==============================] - 0s 10ms/step - loss: 1.4604e-04 - val_loss: 1.1014e-04\n",
      "Epoch 237/400\n",
      "2/2 [==============================] - 0s 9ms/step - loss: 1.4107e-04 - val_loss: 1.0232e-04\n",
      "Epoch 238/400\n",
      "2/2 [==============================] - 0s 8ms/step - loss: 1.4165e-04 - val_loss: 1.0074e-04\n",
      "Epoch 239/400\n",
      "2/2 [==============================] - 0s 9ms/step - loss: 1.4369e-04 - val_loss: 9.9977e-05\n",
      "Epoch 240/400\n",
      "2/2 [==============================] - 0s 9ms/step - loss: 1.4118e-04 - val_loss: 1.0018e-04\n",
      "Epoch 241/400\n",
      "2/2 [==============================] - 0s 11ms/step - loss: 1.3585e-04 - val_loss: 1.0108e-04\n",
      "Epoch 242/400\n",
      "2/2 [==============================] - 0s 8ms/step - loss: 1.3306e-04 - val_loss: 1.0284e-04\n",
      "Epoch 243/400\n",
      "2/2 [==============================] - 0s 10ms/step - loss: 1.3142e-04 - val_loss: 1.0747e-04\n",
      "Epoch 244/400\n",
      "2/2 [==============================] - 0s 9ms/step - loss: 1.3146e-04 - val_loss: 1.1046e-04\n",
      "Epoch 245/400\n",
      "2/2 [==============================] - 0s 9ms/step - loss: 1.3162e-04 - val_loss: 1.0674e-04\n",
      "Epoch 246/400\n",
      "2/2 [==============================] - 0s 9ms/step - loss: 1.2930e-04 - val_loss: 9.9469e-05\n",
      "Epoch 247/400\n",
      "2/2 [==============================] - 0s 9ms/step - loss: 1.2705e-04 - val_loss: 9.5490e-05\n",
      "Epoch 248/400\n",
      "2/2 [==============================] - 0s 9ms/step - loss: 1.2771e-04 - val_loss: 9.5231e-05\n",
      "Epoch 249/400\n",
      "2/2 [==============================] - 0s 10ms/step - loss: 1.2596e-04 - val_loss: 1.0044e-04\n",
      "Epoch 250/400\n",
      "2/2 [==============================] - 0s 14ms/step - loss: 1.2353e-04 - val_loss: 1.1668e-04\n",
      "Epoch 251/400\n",
      "2/2 [==============================] - 0s 9ms/step - loss: 1.2947e-04 - val_loss: 1.2518e-04\n",
      "Epoch 252/400\n",
      "2/2 [==============================] - 0s 11ms/step - loss: 1.3194e-04 - val_loss: 1.0950e-04\n",
      "Epoch 253/400\n",
      "2/2 [==============================] - 0s 10ms/step - loss: 1.2426e-04 - val_loss: 9.7128e-05\n",
      "Epoch 254/400\n",
      "2/2 [==============================] - 0s 10ms/step - loss: 1.1996e-04 - val_loss: 9.0873e-05\n",
      "Epoch 255/400\n",
      "2/2 [==============================] - 0s 12ms/step - loss: 1.2224e-04 - val_loss: 9.0073e-05\n",
      "Epoch 256/400\n",
      "2/2 [==============================] - 0s 12ms/step - loss: 1.2499e-04 - val_loss: 8.9341e-05\n",
      "Epoch 257/400\n",
      "2/2 [==============================] - 0s 10ms/step - loss: 1.2073e-04 - val_loss: 9.2867e-05\n",
      "Epoch 258/400\n",
      "2/2 [==============================] - 0s 11ms/step - loss: 1.1568e-04 - val_loss: 1.0558e-04\n",
      "Epoch 259/400\n",
      "2/2 [==============================] - 0s 19ms/step - loss: 1.1781e-04 - val_loss: 1.0480e-04\n",
      "Epoch 260/400\n",
      "2/2 [==============================] - 0s 10ms/step - loss: 1.1626e-04 - val_loss: 9.3309e-05\n",
      "Epoch 261/400\n",
      "2/2 [==============================] - 0s 11ms/step - loss: 1.1306e-04 - val_loss: 8.9576e-05\n",
      "Epoch 262/400\n",
      "2/2 [==============================] - 0s 9ms/step - loss: 1.1232e-04 - val_loss: 8.8099e-05\n",
      "Epoch 263/400\n",
      "2/2 [==============================] - 0s 9ms/step - loss: 1.1187e-04 - val_loss: 8.6567e-05\n",
      "Epoch 264/400\n",
      "2/2 [==============================] - 0s 8ms/step - loss: 1.1362e-04 - val_loss: 8.6587e-05\n",
      "Epoch 265/400\n",
      "2/2 [==============================] - 0s 9ms/step - loss: 1.1426e-04 - val_loss: 8.6443e-05\n",
      "Epoch 266/400\n",
      "2/2 [==============================] - 0s 10ms/step - loss: 1.1441e-04 - val_loss: 8.8577e-05\n",
      "Epoch 267/400\n",
      "2/2 [==============================] - 0s 9ms/step - loss: 1.1051e-04 - val_loss: 9.9014e-05\n",
      "Epoch 268/400\n",
      "2/2 [==============================] - 0s 9ms/step - loss: 1.0930e-04 - val_loss: 1.1830e-04\n",
      "Epoch 269/400\n",
      "2/2 [==============================] - 0s 9ms/step - loss: 1.1660e-04 - val_loss: 1.5118e-04\n",
      "Epoch 270/400\n",
      "2/2 [==============================] - 0s 10ms/step - loss: 1.3511e-04 - val_loss: 1.4014e-04\n",
      "Epoch 271/400\n",
      "2/2 [==============================] - 0s 9ms/step - loss: 1.2749e-04 - val_loss: 1.0526e-04\n",
      "Epoch 272/400\n",
      "2/2 [==============================] - 0s 10ms/step - loss: 1.0970e-04 - val_loss: 8.9712e-05\n",
      "Epoch 273/400\n",
      "2/2 [==============================] - 0s 9ms/step - loss: 1.0887e-04 - val_loss: 8.8993e-05\n",
      "Epoch 274/400\n",
      "2/2 [==============================] - 0s 10ms/step - loss: 1.1734e-04 - val_loss: 8.7949e-05\n",
      "Epoch 275/400\n",
      "2/2 [==============================] - 0s 10ms/step - loss: 1.1387e-04 - val_loss: 8.9041e-05\n",
      "Epoch 276/400\n",
      "2/2 [==============================] - 0s 10ms/step - loss: 1.0413e-04 - val_loss: 1.0089e-04\n",
      "Epoch 277/400\n",
      "2/2 [==============================] - 0s 10ms/step - loss: 1.0583e-04 - val_loss: 1.0150e-04\n",
      "Epoch 278/400\n",
      "2/2 [==============================] - 0s 10ms/step - loss: 1.0483e-04 - val_loss: 8.8695e-05\n",
      "Epoch 279/400\n",
      "2/2 [==============================] - 0s 10ms/step - loss: 9.9289e-05 - val_loss: 8.2414e-05\n",
      "Epoch 280/400\n",
      "2/2 [==============================] - 0s 9ms/step - loss: 9.8278e-05 - val_loss: 8.1117e-05\n",
      "Epoch 281/400\n",
      "2/2 [==============================] - 0s 10ms/step - loss: 9.9317e-05 - val_loss: 8.2798e-05\n",
      "Epoch 282/400\n",
      "2/2 [==============================] - 0s 8ms/step - loss: 1.0416e-04 - val_loss: 8.2685e-05\n",
      "Epoch 283/400\n",
      "2/2 [==============================] - 0s 10ms/step - loss: 1.0260e-04 - val_loss: 8.0225e-05\n",
      "Epoch 284/400\n",
      "2/2 [==============================] - 0s 8ms/step - loss: 9.5136e-05 - val_loss: 8.2759e-05\n",
      "Epoch 285/400\n",
      "2/2 [==============================] - 0s 10ms/step - loss: 9.3606e-05 - val_loss: 8.5410e-05\n",
      "Epoch 286/400\n",
      "2/2 [==============================] - 0s 9ms/step - loss: 9.4126e-05 - val_loss: 8.6440e-05\n",
      "Epoch 287/400\n",
      "2/2 [==============================] - 0s 8ms/step - loss: 9.4068e-05 - val_loss: 8.3089e-05\n",
      "Epoch 288/400\n",
      "2/2 [==============================] - 0s 9ms/step - loss: 9.2532e-05 - val_loss: 8.1605e-05\n",
      "Epoch 289/400\n",
      "2/2 [==============================] - 0s 9ms/step - loss: 9.1207e-05 - val_loss: 8.2381e-05\n",
      "Epoch 290/400\n",
      "2/2 [==============================] - 0s 11ms/step - loss: 9.0910e-05 - val_loss: 8.5100e-05\n",
      "Epoch 291/400\n",
      "2/2 [==============================] - 0s 10ms/step - loss: 9.2048e-05 - val_loss: 8.3544e-05\n",
      "Epoch 292/400\n",
      "2/2 [==============================] - 0s 9ms/step - loss: 9.0708e-05 - val_loss: 7.8121e-05\n",
      "Epoch 293/400\n",
      "2/2 [==============================] - 0s 12ms/step - loss: 8.9747e-05 - val_loss: 7.7287e-05\n",
      "Epoch 294/400\n",
      "2/2 [==============================] - 0s 10ms/step - loss: 8.8863e-05 - val_loss: 7.8937e-05\n",
      "Epoch 295/400\n",
      "2/2 [==============================] - 0s 10ms/step - loss: 8.7968e-05 - val_loss: 7.7317e-05\n",
      "Epoch 296/400\n",
      "2/2 [==============================] - 0s 12ms/step - loss: 8.7036e-05 - val_loss: 7.5007e-05\n",
      "Epoch 297/400\n",
      "2/2 [==============================] - 0s 13ms/step - loss: 8.6630e-05 - val_loss: 7.4490e-05\n",
      "Epoch 298/400\n",
      "2/2 [==============================] - 0s 12ms/step - loss: 8.6060e-05 - val_loss: 7.4027e-05\n",
      "Epoch 299/400\n",
      "2/2 [==============================] - 0s 10ms/step - loss: 8.5709e-05 - val_loss: 7.3741e-05\n",
      "Epoch 300/400\n",
      "2/2 [==============================] - 0s 12ms/step - loss: 8.5152e-05 - val_loss: 7.4415e-05\n",
      "Epoch 301/400\n",
      "2/2 [==============================] - 0s 12ms/step - loss: 8.4113e-05 - val_loss: 7.6735e-05\n",
      "Epoch 302/400\n",
      "2/2 [==============================] - 0s 8ms/step - loss: 8.4003e-05 - val_loss: 7.7511e-05\n",
      "Epoch 303/400\n",
      "2/2 [==============================] - 0s 11ms/step - loss: 8.3780e-05 - val_loss: 7.4796e-05\n",
      "Epoch 304/400\n",
      "2/2 [==============================] - 0s 9ms/step - loss: 8.2846e-05 - val_loss: 7.2556e-05\n",
      "Epoch 305/400\n",
      "2/2 [==============================] - 0s 18ms/step - loss: 8.3357e-05 - val_loss: 7.2288e-05\n",
      "Epoch 306/400\n",
      "2/2 [==============================] - 0s 10ms/step - loss: 8.3370e-05 - val_loss: 7.2476e-05\n",
      "Epoch 307/400\n",
      "2/2 [==============================] - 0s 9ms/step - loss: 8.2165e-05 - val_loss: 7.3053e-05\n",
      "Epoch 308/400\n",
      "2/2 [==============================] - 0s 11ms/step - loss: 8.1406e-05 - val_loss: 7.4243e-05\n",
      "Epoch 309/400\n",
      "2/2 [==============================] - 0s 10ms/step - loss: 8.1378e-05 - val_loss: 7.6905e-05\n",
      "Epoch 310/400\n",
      "2/2 [==============================] - 0s 9ms/step - loss: 8.2352e-05 - val_loss: 7.9975e-05\n",
      "Epoch 311/400\n",
      "2/2 [==============================] - 0s 8ms/step - loss: 8.4110e-05 - val_loss: 7.5420e-05\n",
      "Epoch 312/400\n",
      "2/2 [==============================] - 0s 9ms/step - loss: 8.1087e-05 - val_loss: 7.4062e-05\n",
      "Epoch 313/400\n",
      "2/2 [==============================] - 0s 8ms/step - loss: 8.2929e-05 - val_loss: 7.8063e-05\n",
      "Epoch 314/400\n",
      "2/2 [==============================] - 0s 10ms/step - loss: 8.7999e-05 - val_loss: 7.1611e-05\n",
      "Epoch 315/400\n",
      "2/2 [==============================] - 0s 9ms/step - loss: 7.9713e-05 - val_loss: 8.7104e-05\n",
      "Epoch 316/400\n",
      "2/2 [==============================] - 0s 8ms/step - loss: 8.7250e-05 - val_loss: 8.8459e-05\n",
      "Epoch 317/400\n",
      "2/2 [==============================] - 0s 8ms/step - loss: 8.5881e-05 - val_loss: 7.1392e-05\n",
      "Epoch 318/400\n",
      "2/2 [==============================] - 0s 8ms/step - loss: 7.6497e-05 - val_loss: 6.9398e-05\n",
      "Epoch 319/400\n",
      "2/2 [==============================] - 0s 9ms/step - loss: 8.1040e-05 - val_loss: 7.2913e-05\n",
      "Epoch 320/400\n",
      "2/2 [==============================] - 0s 12ms/step - loss: 8.6909e-05 - val_loss: 6.8216e-05\n",
      "Epoch 321/400\n",
      "2/2 [==============================] - 0s 9ms/step - loss: 7.9615e-05 - val_loss: 7.2252e-05\n",
      "Epoch 322/400\n",
      "2/2 [==============================] - 0s 10ms/step - loss: 7.5931e-05 - val_loss: 7.6729e-05\n",
      "Epoch 323/400\n",
      "2/2 [==============================] - 0s 10ms/step - loss: 7.7612e-05 - val_loss: 7.3916e-05\n",
      "Epoch 324/400\n",
      "2/2 [==============================] - 0s 12ms/step - loss: 7.6265e-05 - val_loss: 6.9208e-05\n",
      "Epoch 325/400\n",
      "2/2 [==============================] - 0s 13ms/step - loss: 7.4097e-05 - val_loss: 6.6678e-05\n",
      "Epoch 326/400\n",
      "2/2 [==============================] - 0s 9ms/step - loss: 7.4006e-05 - val_loss: 6.6442e-05\n",
      "Epoch 327/400\n",
      "2/2 [==============================] - 0s 11ms/step - loss: 7.3426e-05 - val_loss: 6.6436e-05\n",
      "Epoch 328/400\n",
      "2/2 [==============================] - 0s 10ms/step - loss: 7.2285e-05 - val_loss: 6.4938e-05\n",
      "Epoch 329/400\n",
      "2/2 [==============================] - 0s 10ms/step - loss: 7.2426e-05 - val_loss: 6.4501e-05\n",
      "Epoch 330/400\n",
      "2/2 [==============================] - 0s 10ms/step - loss: 7.2701e-05 - val_loss: 6.4113e-05\n",
      "Epoch 331/400\n",
      "2/2 [==============================] - 0s 9ms/step - loss: 7.0855e-05 - val_loss: 6.8706e-05\n",
      "Epoch 332/400\n",
      "2/2 [==============================] - 0s 10ms/step - loss: 7.2175e-05 - val_loss: 7.7921e-05\n",
      "Epoch 333/400\n",
      "2/2 [==============================] - 0s 10ms/step - loss: 7.7130e-05 - val_loss: 7.1969e-05\n",
      "Epoch 334/400\n",
      "2/2 [==============================] - 0s 8ms/step - loss: 7.2837e-05 - val_loss: 6.2231e-05\n",
      "Epoch 335/400\n",
      "2/2 [==============================] - 0s 12ms/step - loss: 6.8871e-05 - val_loss: 6.2141e-05\n",
      "Epoch 336/400\n",
      "2/2 [==============================] - 0s 11ms/step - loss: 7.2415e-05 - val_loss: 6.1459e-05\n",
      "Epoch 337/400\n",
      "2/2 [==============================] - 0s 10ms/step - loss: 7.0143e-05 - val_loss: 6.4033e-05\n",
      "Epoch 338/400\n",
      "2/2 [==============================] - 0s 11ms/step - loss: 7.0245e-05 - val_loss: 7.1065e-05\n",
      "Epoch 339/400\n",
      "2/2 [==============================] - 0s 11ms/step - loss: 7.1262e-05 - val_loss: 6.0064e-05\n",
      "Epoch 340/400\n",
      "2/2 [==============================] - 0s 10ms/step - loss: 6.8435e-05 - val_loss: 5.8719e-05\n",
      "Epoch 341/400\n",
      "2/2 [==============================] - 0s 10ms/step - loss: 6.7451e-05 - val_loss: 5.8827e-05\n",
      "Epoch 342/400\n",
      "2/2 [==============================] - 0s 12ms/step - loss: 6.5314e-05 - val_loss: 6.1103e-05\n",
      "Epoch 343/400\n",
      "2/2 [==============================] - 0s 10ms/step - loss: 6.5490e-05 - val_loss: 6.0651e-05\n",
      "Epoch 344/400\n",
      "2/2 [==============================] - 0s 12ms/step - loss: 6.4851e-05 - val_loss: 5.7183e-05\n",
      "Epoch 345/400\n",
      "2/2 [==============================] - 0s 10ms/step - loss: 6.3704e-05 - val_loss: 5.5701e-05\n",
      "Epoch 346/400\n",
      "2/2 [==============================] - 0s 8ms/step - loss: 6.4938e-05 - val_loss: 5.5794e-05\n",
      "Epoch 347/400\n",
      "2/2 [==============================] - 0s 12ms/step - loss: 6.5885e-05 - val_loss: 5.5042e-05\n",
      "Epoch 348/400\n",
      "2/2 [==============================] - 0s 10ms/step - loss: 6.4418e-05 - val_loss: 5.4653e-05\n",
      "Epoch 349/400\n",
      "2/2 [==============================] - 0s 10ms/step - loss: 6.2559e-05 - val_loss: 5.5749e-05\n",
      "Epoch 350/400\n",
      "2/2 [==============================] - 0s 11ms/step - loss: 6.2319e-05 - val_loss: 5.6865e-05\n",
      "Epoch 351/400\n",
      "2/2 [==============================] - 0s 9ms/step - loss: 6.2592e-05 - val_loss: 5.6236e-05\n",
      "Epoch 352/400\n",
      "2/2 [==============================] - 0s 12ms/step - loss: 6.1663e-05 - val_loss: 5.2898e-05\n",
      "Epoch 353/400\n",
      "2/2 [==============================] - 0s 11ms/step - loss: 6.0202e-05 - val_loss: 5.1583e-05\n",
      "Epoch 354/400\n",
      "2/2 [==============================] - 0s 11ms/step - loss: 5.9907e-05 - val_loss: 5.1113e-05\n",
      "Epoch 355/400\n",
      "2/2 [==============================] - 0s 9ms/step - loss: 5.9140e-05 - val_loss: 5.0995e-05\n",
      "Epoch 356/400\n",
      "2/2 [==============================] - 0s 12ms/step - loss: 5.8995e-05 - val_loss: 5.1331e-05\n",
      "Epoch 357/400\n",
      "2/2 [==============================] - 0s 8ms/step - loss: 5.8842e-05 - val_loss: 5.1563e-05\n",
      "Epoch 358/400\n",
      "2/2 [==============================] - 0s 11ms/step - loss: 5.8744e-05 - val_loss: 5.2781e-05\n",
      "Epoch 359/400\n",
      "2/2 [==============================] - 0s 9ms/step - loss: 5.8876e-05 - val_loss: 5.2500e-05\n",
      "Epoch 360/400\n",
      "2/2 [==============================] - 0s 23ms/step - loss: 5.8485e-05 - val_loss: 4.9847e-05\n",
      "Epoch 361/400\n",
      "2/2 [==============================] - 0s 11ms/step - loss: 5.9657e-05 - val_loss: 4.9893e-05\n",
      "Epoch 362/400\n",
      "2/2 [==============================] - 0s 12ms/step - loss: 6.2303e-05 - val_loss: 4.9536e-05\n",
      "Epoch 363/400\n",
      "2/2 [==============================] - 0s 11ms/step - loss: 6.1610e-05 - val_loss: 4.8936e-05\n",
      "Epoch 364/400\n",
      "2/2 [==============================] - 0s 11ms/step - loss: 5.8411e-05 - val_loss: 5.0470e-05\n",
      "Epoch 365/400\n",
      "2/2 [==============================] - 0s 12ms/step - loss: 5.6612e-05 - val_loss: 4.9183e-05\n",
      "Epoch 366/400\n",
      "2/2 [==============================] - 0s 10ms/step - loss: 5.6054e-05 - val_loss: 4.7909e-05\n",
      "Epoch 367/400\n",
      "2/2 [==============================] - 0s 10ms/step - loss: 5.5844e-05 - val_loss: 4.7500e-05\n",
      "Epoch 368/400\n",
      "2/2 [==============================] - 0s 10ms/step - loss: 5.5654e-05 - val_loss: 4.7782e-05\n",
      "Epoch 369/400\n",
      "2/2 [==============================] - 0s 9ms/step - loss: 5.5349e-05 - val_loss: 4.8827e-05\n",
      "Epoch 370/400\n",
      "2/2 [==============================] - 0s 11ms/step - loss: 5.5334e-05 - val_loss: 4.8516e-05\n",
      "Epoch 371/400\n",
      "2/2 [==============================] - 0s 9ms/step - loss: 5.4993e-05 - val_loss: 4.6706e-05\n",
      "Epoch 372/400\n",
      "2/2 [==============================] - 0s 10ms/step - loss: 5.5162e-05 - val_loss: 4.7422e-05\n",
      "Epoch 373/400\n",
      "2/2 [==============================] - 0s 9ms/step - loss: 5.4733e-05 - val_loss: 5.1683e-05\n",
      "Epoch 374/400\n",
      "2/2 [==============================] - 0s 10ms/step - loss: 5.5633e-05 - val_loss: 4.8792e-05\n",
      "Epoch 375/400\n",
      "2/2 [==============================] - 0s 9ms/step - loss: 5.4278e-05 - val_loss: 4.5675e-05\n",
      "Epoch 376/400\n",
      "2/2 [==============================] - 0s 10ms/step - loss: 5.6136e-05 - val_loss: 4.5907e-05\n",
      "Epoch 377/400\n",
      "2/2 [==============================] - 0s 10ms/step - loss: 5.4745e-05 - val_loss: 5.1059e-05\n",
      "Epoch 378/400\n",
      "2/2 [==============================] - 0s 9ms/step - loss: 5.4611e-05 - val_loss: 5.0806e-05\n",
      "Epoch 379/400\n",
      "2/2 [==============================] - 0s 11ms/step - loss: 5.4130e-05 - val_loss: 4.6645e-05\n",
      "Epoch 380/400\n",
      "2/2 [==============================] - 0s 12ms/step - loss: 5.3305e-05 - val_loss: 4.5333e-05\n",
      "Epoch 381/400\n",
      "2/2 [==============================] - 0s 9ms/step - loss: 5.4553e-05 - val_loss: 4.5203e-05\n",
      "Epoch 382/400\n",
      "2/2 [==============================] - 0s 10ms/step - loss: 5.3870e-05 - val_loss: 4.6442e-05\n",
      "Epoch 383/400\n",
      "2/2 [==============================] - 0s 9ms/step - loss: 5.2462e-05 - val_loss: 4.8851e-05\n",
      "Epoch 384/400\n",
      "2/2 [==============================] - 0s 11ms/step - loss: 5.2823e-05 - val_loss: 4.7628e-05\n",
      "Epoch 385/400\n",
      "2/2 [==============================] - 0s 10ms/step - loss: 5.2102e-05 - val_loss: 4.4842e-05\n",
      "Epoch 386/400\n",
      "2/2 [==============================] - 0s 9ms/step - loss: 5.2437e-05 - val_loss: 4.5578e-05\n",
      "Epoch 387/400\n",
      "2/2 [==============================] - 0s 10ms/step - loss: 5.5450e-05 - val_loss: 4.6552e-05\n",
      "Epoch 388/400\n",
      "2/2 [==============================] - 0s 11ms/step - loss: 5.7010e-05 - val_loss: 4.4451e-05\n",
      "Epoch 389/400\n",
      "2/2 [==============================] - 0s 9ms/step - loss: 5.1991e-05 - val_loss: 5.3866e-05\n",
      "Epoch 390/400\n",
      "2/2 [==============================] - 0s 9ms/step - loss: 5.5003e-05 - val_loss: 5.9694e-05\n",
      "Epoch 391/400\n",
      "2/2 [==============================] - 0s 11ms/step - loss: 5.7727e-05 - val_loss: 5.0201e-05\n",
      "Epoch 392/400\n",
      "2/2 [==============================] - 0s 9ms/step - loss: 5.2214e-05 - val_loss: 4.4325e-05\n",
      "Epoch 393/400\n",
      "2/2 [==============================] - 0s 11ms/step - loss: 5.1422e-05 - val_loss: 4.3889e-05\n",
      "Epoch 394/400\n",
      "2/2 [==============================] - 0s 9ms/step - loss: 5.1099e-05 - val_loss: 4.5923e-05\n",
      "Epoch 395/400\n",
      "2/2 [==============================] - 0s 11ms/step - loss: 5.0422e-05 - val_loss: 4.8595e-05\n",
      "Epoch 396/400\n",
      "2/2 [==============================] - 0s 10ms/step - loss: 5.0994e-05 - val_loss: 4.8093e-05\n",
      "Epoch 397/400\n",
      "2/2 [==============================] - 0s 11ms/step - loss: 5.0537e-05 - val_loss: 4.4369e-05\n",
      "Epoch 398/400\n",
      "2/2 [==============================] - 0s 9ms/step - loss: 5.0020e-05 - val_loss: 4.3277e-05\n",
      "Epoch 399/400\n",
      "2/2 [==============================] - 0s 11ms/step - loss: 5.0672e-05 - val_loss: 4.3784e-05\n",
      "Epoch 400/400\n",
      "2/2 [==============================] - 0s 10ms/step - loss: 4.9985e-05 - val_loss: 4.4856e-05\n"
     ]
    },
    {
     "output_type": "execute_result",
     "data": {
      "text/plain": [
       "<tensorflow.python.keras.callbacks.History at 0x1b13c23ac10>"
      ]
     },
     "metadata": {},
     "execution_count": 25
    }
   ],
   "source": [
    "model.fit(x=X_train,y=y_train.values,\n",
    "          validation_data=(X_test,y_test.values),\n",
    "          batch_size=128,epochs=400)"
   ]
  },
  {
   "cell_type": "code",
   "execution_count": 26,
   "metadata": {},
   "outputs": [],
   "source": [
    "losses = pd.DataFrame(model.history.history)"
   ]
  },
  {
   "cell_type": "code",
   "execution_count": 27,
   "metadata": {},
   "outputs": [
    {
     "output_type": "execute_result",
     "data": {
      "text/plain": [
       "<matplotlib.axes._subplots.AxesSubplot at 0x1b13d829640>"
      ]
     },
     "metadata": {},
     "execution_count": 27
    },
    {
     "output_type": "display_data",
     "data": {
      "text/plain": "<Figure size 432x288 with 1 Axes>",
      "image/svg+xml": "<?xml version=\"1.0\" encoding=\"utf-8\" standalone=\"no\"?>\r\n<!DOCTYPE svg PUBLIC \"-//W3C//DTD SVG 1.1//EN\"\r\n  \"http://www.w3.org/Graphics/SVG/1.1/DTD/svg11.dtd\">\r\n<!-- Created with matplotlib (https://matplotlib.org/) -->\r\n<svg height=\"248.518125pt\" version=\"1.1\" viewBox=\"0 0 372.103125 248.518125\" width=\"372.103125pt\" xmlns=\"http://www.w3.org/2000/svg\" xmlns:xlink=\"http://www.w3.org/1999/xlink\">\r\n <defs>\r\n  <style type=\"text/css\">\r\n*{stroke-linecap:butt;stroke-linejoin:round;}\r\n  </style>\r\n </defs>\r\n <g id=\"figure_1\">\r\n  <g id=\"patch_1\">\r\n   <path d=\"M 0 248.518125 \r\nL 372.103125 248.518125 \r\nL 372.103125 0 \r\nL 0 0 \r\nz\r\n\" style=\"fill:none;\"/>\r\n  </g>\r\n  <g id=\"axes_1\">\r\n   <g id=\"patch_2\">\r\n    <path d=\"M 30.103125 224.64 \r\nL 364.903125 224.64 \r\nL 364.903125 7.2 \r\nL 30.103125 7.2 \r\nz\r\n\" style=\"fill:#ffffff;\"/>\r\n   </g>\r\n   <g id=\"matplotlib.axis_1\">\r\n    <g id=\"xtick_1\">\r\n     <g id=\"line2d_1\">\r\n      <defs>\r\n       <path d=\"M 0 0 \r\nL 0 3.5 \r\n\" id=\"m3f88799bc6\" style=\"stroke:#000000;stroke-width:0.8;\"/>\r\n      </defs>\r\n      <g>\r\n       <use style=\"stroke:#000000;stroke-width:0.8;\" x=\"45.321307\" xlink:href=\"#m3f88799bc6\" y=\"224.64\"/>\r\n      </g>\r\n     </g>\r\n     <g id=\"text_1\">\r\n      <!-- 0 -->\r\n      <defs>\r\n       <path d=\"M 31.78125 66.40625 \r\nQ 24.171875 66.40625 20.328125 58.90625 \r\nQ 16.5 51.421875 16.5 36.375 \r\nQ 16.5 21.390625 20.328125 13.890625 \r\nQ 24.171875 6.390625 31.78125 6.390625 \r\nQ 39.453125 6.390625 43.28125 13.890625 \r\nQ 47.125 21.390625 47.125 36.375 \r\nQ 47.125 51.421875 43.28125 58.90625 \r\nQ 39.453125 66.40625 31.78125 66.40625 \r\nz\r\nM 31.78125 74.21875 \r\nQ 44.046875 74.21875 50.515625 64.515625 \r\nQ 56.984375 54.828125 56.984375 36.375 \r\nQ 56.984375 17.96875 50.515625 8.265625 \r\nQ 44.046875 -1.421875 31.78125 -1.421875 \r\nQ 19.53125 -1.421875 13.0625 8.265625 \r\nQ 6.59375 17.96875 6.59375 36.375 \r\nQ 6.59375 54.828125 13.0625 64.515625 \r\nQ 19.53125 74.21875 31.78125 74.21875 \r\nz\r\n\" id=\"DejaVuSans-48\"/>\r\n      </defs>\r\n      <g transform=\"translate(42.140057 239.238437)scale(0.1 -0.1)\">\r\n       <use xlink:href=\"#DejaVuSans-48\"/>\r\n      </g>\r\n     </g>\r\n    </g>\r\n    <g id=\"xtick_2\">\r\n     <g id=\"line2d_2\">\r\n      <g>\r\n       <use style=\"stroke:#000000;stroke-width:0.8;\" x=\"83.462113\" xlink:href=\"#m3f88799bc6\" y=\"224.64\"/>\r\n      </g>\r\n     </g>\r\n     <g id=\"text_2\">\r\n      <!-- 50 -->\r\n      <defs>\r\n       <path d=\"M 10.796875 72.90625 \r\nL 49.515625 72.90625 \r\nL 49.515625 64.59375 \r\nL 19.828125 64.59375 \r\nL 19.828125 46.734375 \r\nQ 21.96875 47.46875 24.109375 47.828125 \r\nQ 26.265625 48.1875 28.421875 48.1875 \r\nQ 40.625 48.1875 47.75 41.5 \r\nQ 54.890625 34.8125 54.890625 23.390625 \r\nQ 54.890625 11.625 47.5625 5.09375 \r\nQ 40.234375 -1.421875 26.90625 -1.421875 \r\nQ 22.3125 -1.421875 17.546875 -0.640625 \r\nQ 12.796875 0.140625 7.71875 1.703125 \r\nL 7.71875 11.625 \r\nQ 12.109375 9.234375 16.796875 8.0625 \r\nQ 21.484375 6.890625 26.703125 6.890625 \r\nQ 35.15625 6.890625 40.078125 11.328125 \r\nQ 45.015625 15.765625 45.015625 23.390625 \r\nQ 45.015625 31 40.078125 35.4375 \r\nQ 35.15625 39.890625 26.703125 39.890625 \r\nQ 22.75 39.890625 18.8125 39.015625 \r\nQ 14.890625 38.140625 10.796875 36.28125 \r\nz\r\n\" id=\"DejaVuSans-53\"/>\r\n      </defs>\r\n      <g transform=\"translate(77.099613 239.238437)scale(0.1 -0.1)\">\r\n       <use xlink:href=\"#DejaVuSans-53\"/>\r\n       <use x=\"63.623047\" xlink:href=\"#DejaVuSans-48\"/>\r\n      </g>\r\n     </g>\r\n    </g>\r\n    <g id=\"xtick_3\">\r\n     <g id=\"line2d_3\">\r\n      <g>\r\n       <use style=\"stroke:#000000;stroke-width:0.8;\" x=\"121.60292\" xlink:href=\"#m3f88799bc6\" y=\"224.64\"/>\r\n      </g>\r\n     </g>\r\n     <g id=\"text_3\">\r\n      <!-- 100 -->\r\n      <defs>\r\n       <path d=\"M 12.40625 8.296875 \r\nL 28.515625 8.296875 \r\nL 28.515625 63.921875 \r\nL 10.984375 60.40625 \r\nL 10.984375 69.390625 \r\nL 28.421875 72.90625 \r\nL 38.28125 72.90625 \r\nL 38.28125 8.296875 \r\nL 54.390625 8.296875 \r\nL 54.390625 0 \r\nL 12.40625 0 \r\nz\r\n\" id=\"DejaVuSans-49\"/>\r\n      </defs>\r\n      <g transform=\"translate(112.05917 239.238437)scale(0.1 -0.1)\">\r\n       <use xlink:href=\"#DejaVuSans-49\"/>\r\n       <use x=\"63.623047\" xlink:href=\"#DejaVuSans-48\"/>\r\n       <use x=\"127.246094\" xlink:href=\"#DejaVuSans-48\"/>\r\n      </g>\r\n     </g>\r\n    </g>\r\n    <g id=\"xtick_4\">\r\n     <g id=\"line2d_4\">\r\n      <g>\r\n       <use style=\"stroke:#000000;stroke-width:0.8;\" x=\"159.743727\" xlink:href=\"#m3f88799bc6\" y=\"224.64\"/>\r\n      </g>\r\n     </g>\r\n     <g id=\"text_4\">\r\n      <!-- 150 -->\r\n      <g transform=\"translate(150.199977 239.238437)scale(0.1 -0.1)\">\r\n       <use xlink:href=\"#DejaVuSans-49\"/>\r\n       <use x=\"63.623047\" xlink:href=\"#DejaVuSans-53\"/>\r\n       <use x=\"127.246094\" xlink:href=\"#DejaVuSans-48\"/>\r\n      </g>\r\n     </g>\r\n    </g>\r\n    <g id=\"xtick_5\">\r\n     <g id=\"line2d_5\">\r\n      <g>\r\n       <use style=\"stroke:#000000;stroke-width:0.8;\" x=\"197.884533\" xlink:href=\"#m3f88799bc6\" y=\"224.64\"/>\r\n      </g>\r\n     </g>\r\n     <g id=\"text_5\">\r\n      <!-- 200 -->\r\n      <defs>\r\n       <path d=\"M 19.1875 8.296875 \r\nL 53.609375 8.296875 \r\nL 53.609375 0 \r\nL 7.328125 0 \r\nL 7.328125 8.296875 \r\nQ 12.9375 14.109375 22.625 23.890625 \r\nQ 32.328125 33.6875 34.8125 36.53125 \r\nQ 39.546875 41.84375 41.421875 45.53125 \r\nQ 43.3125 49.21875 43.3125 52.78125 \r\nQ 43.3125 58.59375 39.234375 62.25 \r\nQ 35.15625 65.921875 28.609375 65.921875 \r\nQ 23.96875 65.921875 18.8125 64.3125 \r\nQ 13.671875 62.703125 7.8125 59.421875 \r\nL 7.8125 69.390625 \r\nQ 13.765625 71.78125 18.9375 73 \r\nQ 24.125 74.21875 28.421875 74.21875 \r\nQ 39.75 74.21875 46.484375 68.546875 \r\nQ 53.21875 62.890625 53.21875 53.421875 \r\nQ 53.21875 48.921875 51.53125 44.890625 \r\nQ 49.859375 40.875 45.40625 35.40625 \r\nQ 44.1875 33.984375 37.640625 27.21875 \r\nQ 31.109375 20.453125 19.1875 8.296875 \r\nz\r\n\" id=\"DejaVuSans-50\"/>\r\n      </defs>\r\n      <g transform=\"translate(188.340783 239.238437)scale(0.1 -0.1)\">\r\n       <use xlink:href=\"#DejaVuSans-50\"/>\r\n       <use x=\"63.623047\" xlink:href=\"#DejaVuSans-48\"/>\r\n       <use x=\"127.246094\" xlink:href=\"#DejaVuSans-48\"/>\r\n      </g>\r\n     </g>\r\n    </g>\r\n    <g id=\"xtick_6\">\r\n     <g id=\"line2d_6\">\r\n      <g>\r\n       <use style=\"stroke:#000000;stroke-width:0.8;\" x=\"236.02534\" xlink:href=\"#m3f88799bc6\" y=\"224.64\"/>\r\n      </g>\r\n     </g>\r\n     <g id=\"text_6\">\r\n      <!-- 250 -->\r\n      <g transform=\"translate(226.48159 239.238437)scale(0.1 -0.1)\">\r\n       <use xlink:href=\"#DejaVuSans-50\"/>\r\n       <use x=\"63.623047\" xlink:href=\"#DejaVuSans-53\"/>\r\n       <use x=\"127.246094\" xlink:href=\"#DejaVuSans-48\"/>\r\n      </g>\r\n     </g>\r\n    </g>\r\n    <g id=\"xtick_7\">\r\n     <g id=\"line2d_7\">\r\n      <g>\r\n       <use style=\"stroke:#000000;stroke-width:0.8;\" x=\"274.166146\" xlink:href=\"#m3f88799bc6\" y=\"224.64\"/>\r\n      </g>\r\n     </g>\r\n     <g id=\"text_7\">\r\n      <!-- 300 -->\r\n      <defs>\r\n       <path d=\"M 40.578125 39.3125 \r\nQ 47.65625 37.796875 51.625 33 \r\nQ 55.609375 28.21875 55.609375 21.1875 \r\nQ 55.609375 10.40625 48.1875 4.484375 \r\nQ 40.765625 -1.421875 27.09375 -1.421875 \r\nQ 22.515625 -1.421875 17.65625 -0.515625 \r\nQ 12.796875 0.390625 7.625 2.203125 \r\nL 7.625 11.71875 \r\nQ 11.71875 9.328125 16.59375 8.109375 \r\nQ 21.484375 6.890625 26.8125 6.890625 \r\nQ 36.078125 6.890625 40.9375 10.546875 \r\nQ 45.796875 14.203125 45.796875 21.1875 \r\nQ 45.796875 27.640625 41.28125 31.265625 \r\nQ 36.765625 34.90625 28.71875 34.90625 \r\nL 20.21875 34.90625 \r\nL 20.21875 43.015625 \r\nL 29.109375 43.015625 \r\nQ 36.375 43.015625 40.234375 45.921875 \r\nQ 44.09375 48.828125 44.09375 54.296875 \r\nQ 44.09375 59.90625 40.109375 62.90625 \r\nQ 36.140625 65.921875 28.71875 65.921875 \r\nQ 24.65625 65.921875 20.015625 65.03125 \r\nQ 15.375 64.15625 9.8125 62.3125 \r\nL 9.8125 71.09375 \r\nQ 15.4375 72.65625 20.34375 73.4375 \r\nQ 25.25 74.21875 29.59375 74.21875 \r\nQ 40.828125 74.21875 47.359375 69.109375 \r\nQ 53.90625 64.015625 53.90625 55.328125 \r\nQ 53.90625 49.265625 50.4375 45.09375 \r\nQ 46.96875 40.921875 40.578125 39.3125 \r\nz\r\n\" id=\"DejaVuSans-51\"/>\r\n      </defs>\r\n      <g transform=\"translate(264.622396 239.238437)scale(0.1 -0.1)\">\r\n       <use xlink:href=\"#DejaVuSans-51\"/>\r\n       <use x=\"63.623047\" xlink:href=\"#DejaVuSans-48\"/>\r\n       <use x=\"127.246094\" xlink:href=\"#DejaVuSans-48\"/>\r\n      </g>\r\n     </g>\r\n    </g>\r\n    <g id=\"xtick_8\">\r\n     <g id=\"line2d_8\">\r\n      <g>\r\n       <use style=\"stroke:#000000;stroke-width:0.8;\" x=\"312.306953\" xlink:href=\"#m3f88799bc6\" y=\"224.64\"/>\r\n      </g>\r\n     </g>\r\n     <g id=\"text_8\">\r\n      <!-- 350 -->\r\n      <g transform=\"translate(302.763203 239.238437)scale(0.1 -0.1)\">\r\n       <use xlink:href=\"#DejaVuSans-51\"/>\r\n       <use x=\"63.623047\" xlink:href=\"#DejaVuSans-53\"/>\r\n       <use x=\"127.246094\" xlink:href=\"#DejaVuSans-48\"/>\r\n      </g>\r\n     </g>\r\n    </g>\r\n    <g id=\"xtick_9\">\r\n     <g id=\"line2d_9\">\r\n      <g>\r\n       <use style=\"stroke:#000000;stroke-width:0.8;\" x=\"350.447759\" xlink:href=\"#m3f88799bc6\" y=\"224.64\"/>\r\n      </g>\r\n     </g>\r\n     <g id=\"text_9\">\r\n      <!-- 400 -->\r\n      <defs>\r\n       <path d=\"M 37.796875 64.3125 \r\nL 12.890625 25.390625 \r\nL 37.796875 25.390625 \r\nz\r\nM 35.203125 72.90625 \r\nL 47.609375 72.90625 \r\nL 47.609375 25.390625 \r\nL 58.015625 25.390625 \r\nL 58.015625 17.1875 \r\nL 47.609375 17.1875 \r\nL 47.609375 0 \r\nL 37.796875 0 \r\nL 37.796875 17.1875 \r\nL 4.890625 17.1875 \r\nL 4.890625 26.703125 \r\nz\r\n\" id=\"DejaVuSans-52\"/>\r\n      </defs>\r\n      <g transform=\"translate(340.904009 239.238437)scale(0.1 -0.1)\">\r\n       <use xlink:href=\"#DejaVuSans-52\"/>\r\n       <use x=\"63.623047\" xlink:href=\"#DejaVuSans-48\"/>\r\n       <use x=\"127.246094\" xlink:href=\"#DejaVuSans-48\"/>\r\n      </g>\r\n     </g>\r\n    </g>\r\n   </g>\r\n   <g id=\"matplotlib.axis_2\">\r\n    <g id=\"ytick_1\">\r\n     <g id=\"line2d_10\">\r\n      <defs>\r\n       <path d=\"M 0 0 \r\nL -3.5 0 \r\n\" id=\"m4a396e51fb\" style=\"stroke:#000000;stroke-width:0.8;\"/>\r\n      </defs>\r\n      <g>\r\n       <use style=\"stroke:#000000;stroke-width:0.8;\" x=\"30.103125\" xlink:href=\"#m4a396e51fb\" y=\"214.760491\"/>\r\n      </g>\r\n     </g>\r\n     <g id=\"text_10\">\r\n      <!-- 0.0 -->\r\n      <defs>\r\n       <path d=\"M 10.6875 12.40625 \r\nL 21 12.40625 \r\nL 21 0 \r\nL 10.6875 0 \r\nz\r\n\" id=\"DejaVuSans-46\"/>\r\n      </defs>\r\n      <g transform=\"translate(7.2 218.559709)scale(0.1 -0.1)\">\r\n       <use xlink:href=\"#DejaVuSans-48\"/>\r\n       <use x=\"63.623047\" xlink:href=\"#DejaVuSans-46\"/>\r\n       <use x=\"95.410156\" xlink:href=\"#DejaVuSans-48\"/>\r\n      </g>\r\n     </g>\r\n    </g>\r\n    <g id=\"ytick_2\">\r\n     <g id=\"line2d_11\">\r\n      <g>\r\n       <use style=\"stroke:#000000;stroke-width:0.8;\" x=\"30.103125\" xlink:href=\"#m4a396e51fb\" y=\"167.080235\"/>\r\n      </g>\r\n     </g>\r\n     <g id=\"text_11\">\r\n      <!-- 0.5 -->\r\n      <g transform=\"translate(7.2 170.879454)scale(0.1 -0.1)\">\r\n       <use xlink:href=\"#DejaVuSans-48\"/>\r\n       <use x=\"63.623047\" xlink:href=\"#DejaVuSans-46\"/>\r\n       <use x=\"95.410156\" xlink:href=\"#DejaVuSans-53\"/>\r\n      </g>\r\n     </g>\r\n    </g>\r\n    <g id=\"ytick_3\">\r\n     <g id=\"line2d_12\">\r\n      <g>\r\n       <use style=\"stroke:#000000;stroke-width:0.8;\" x=\"30.103125\" xlink:href=\"#m4a396e51fb\" y=\"119.39998\"/>\r\n      </g>\r\n     </g>\r\n     <g id=\"text_12\">\r\n      <!-- 1.0 -->\r\n      <g transform=\"translate(7.2 123.199199)scale(0.1 -0.1)\">\r\n       <use xlink:href=\"#DejaVuSans-49\"/>\r\n       <use x=\"63.623047\" xlink:href=\"#DejaVuSans-46\"/>\r\n       <use x=\"95.410156\" xlink:href=\"#DejaVuSans-48\"/>\r\n      </g>\r\n     </g>\r\n    </g>\r\n    <g id=\"ytick_4\">\r\n     <g id=\"line2d_13\">\r\n      <g>\r\n       <use style=\"stroke:#000000;stroke-width:0.8;\" x=\"30.103125\" xlink:href=\"#m4a396e51fb\" y=\"71.719725\"/>\r\n      </g>\r\n     </g>\r\n     <g id=\"text_13\">\r\n      <!-- 1.5 -->\r\n      <g transform=\"translate(7.2 75.518944)scale(0.1 -0.1)\">\r\n       <use xlink:href=\"#DejaVuSans-49\"/>\r\n       <use x=\"63.623047\" xlink:href=\"#DejaVuSans-46\"/>\r\n       <use x=\"95.410156\" xlink:href=\"#DejaVuSans-53\"/>\r\n      </g>\r\n     </g>\r\n    </g>\r\n    <g id=\"ytick_5\">\r\n     <g id=\"line2d_14\">\r\n      <g>\r\n       <use style=\"stroke:#000000;stroke-width:0.8;\" x=\"30.103125\" xlink:href=\"#m4a396e51fb\" y=\"24.03947\"/>\r\n      </g>\r\n     </g>\r\n     <g id=\"text_14\">\r\n      <!-- 2.0 -->\r\n      <g transform=\"translate(7.2 27.838689)scale(0.1 -0.1)\">\r\n       <use xlink:href=\"#DejaVuSans-50\"/>\r\n       <use x=\"63.623047\" xlink:href=\"#DejaVuSans-46\"/>\r\n       <use x=\"95.410156\" xlink:href=\"#DejaVuSans-48\"/>\r\n      </g>\r\n     </g>\r\n    </g>\r\n   </g>\r\n   <g id=\"line2d_15\">\r\n    <path clip-path=\"url(#pca6cf421c0)\" d=\"M 45.321307 17.083636 \r\nL 46.084123 25.561547 \r\nL 46.846939 32.019263 \r\nL 48.372571 42.316781 \r\nL 51.423836 60.77117 \r\nL 54.4751 78.35968 \r\nL 57.526365 98.072479 \r\nL 59.814813 115.332344 \r\nL 62.103262 134.861376 \r\nL 66.680158 175.59259 \r\nL 68.205791 186.862287 \r\nL 68.968607 191.336894 \r\nL 69.731423 195.010889 \r\nL 70.494239 197.417499 \r\nL 71.257055 199.016236 \r\nL 72.019871 199.71444 \r\nL 72.782688 199.806003 \r\nL 74.30832 199.697593 \r\nL 75.071136 199.932516 \r\nL 75.833952 200.533304 \r\nL 77.359584 202.14911 \r\nL 78.885217 203.840894 \r\nL 80.410849 204.997717 \r\nL 81.936481 205.722761 \r\nL 87.276194 208.730048 \r\nL 93.378723 211.567729 \r\nL 97.95562 213.030113 \r\nL 101.006884 213.608923 \r\nL 104.058149 213.962242 \r\nL 108.635046 214.190846 \r\nL 121.60292 214.470412 \r\nL 156.692462 214.68537 \r\nL 252.807295 214.750109 \r\nL 349.684943 214.755724 \r\nL 349.684943 214.755724 \r\n\" style=\"fill:none;stroke:#1f77b4;stroke-linecap:square;stroke-width:1.5;\"/>\r\n   </g>\r\n   <g id=\"line2d_16\">\r\n    <path clip-path=\"url(#pca6cf421c0)\" d=\"M 45.321307 23.149685 \r\nL 46.084123 30.567395 \r\nL 47.609755 41.94337 \r\nL 52.186652 71.789694 \r\nL 54.4751 86.558077 \r\nL 56.763549 102.370064 \r\nL 59.051997 120.24023 \r\nL 60.577629 133.449858 \r\nL 65.154526 174.597763 \r\nL 66.680158 185.985561 \r\nL 67.442975 190.563029 \r\nL 68.205791 194.100698 \r\nL 68.968607 196.407556 \r\nL 69.731423 197.569492 \r\nL 70.494239 197.669125 \r\nL 71.257055 196.935549 \r\nL 72.782688 194.740633 \r\nL 73.545504 194.065368 \r\nL 74.30832 194.047647 \r\nL 75.071136 194.885475 \r\nL 76.596768 197.571295 \r\nL 78.1224 200.667878 \r\nL 78.885217 201.755042 \r\nL 79.648033 202.608925 \r\nL 80.410849 203.11353 \r\nL 84.987746 206.834123 \r\nL 87.276194 207.900243 \r\nL 89.564642 209.318115 \r\nL 91.853091 210.760811 \r\nL 94.141539 211.994637 \r\nL 96.429988 212.859607 \r\nL 99.481252 213.627436 \r\nL 102.532517 214.134684 \r\nL 105.583781 214.338702 \r\nL 111.68631 214.458563 \r\nL 115.500391 214.526877 \r\nL 127.705449 214.617775 \r\nL 163.557807 214.725271 \r\nL 349.684943 214.756213 \r\nL 349.684943 214.756213 \r\n\" style=\"fill:none;stroke:#ff7f0e;stroke-linecap:square;stroke-width:1.5;\"/>\r\n   </g>\r\n   <g id=\"patch_3\">\r\n    <path d=\"M 30.103125 224.64 \r\nL 30.103125 7.2 \r\n\" style=\"fill:none;stroke:#000000;stroke-linecap:square;stroke-linejoin:miter;stroke-width:0.8;\"/>\r\n   </g>\r\n   <g id=\"patch_4\">\r\n    <path d=\"M 364.903125 224.64 \r\nL 364.903125 7.2 \r\n\" style=\"fill:none;stroke:#000000;stroke-linecap:square;stroke-linejoin:miter;stroke-width:0.8;\"/>\r\n   </g>\r\n   <g id=\"patch_5\">\r\n    <path d=\"M 30.103125 224.64 \r\nL 364.903125 224.64 \r\n\" style=\"fill:none;stroke:#000000;stroke-linecap:square;stroke-linejoin:miter;stroke-width:0.8;\"/>\r\n   </g>\r\n   <g id=\"patch_6\">\r\n    <path d=\"M 30.103125 7.2 \r\nL 364.903125 7.2 \r\n\" style=\"fill:none;stroke:#000000;stroke-linecap:square;stroke-linejoin:miter;stroke-width:0.8;\"/>\r\n   </g>\r\n   <g id=\"legend_1\">\r\n    <g id=\"patch_7\">\r\n     <path d=\"M 286.7625 44.834375 \r\nL 357.903125 44.834375 \r\nQ 359.903125 44.834375 359.903125 42.834375 \r\nL 359.903125 14.2 \r\nQ 359.903125 12.2 357.903125 12.2 \r\nL 286.7625 12.2 \r\nQ 284.7625 12.2 284.7625 14.2 \r\nL 284.7625 42.834375 \r\nQ 284.7625 44.834375 286.7625 44.834375 \r\nz\r\n\" style=\"fill:#ffffff;opacity:0.8;stroke:#cccccc;stroke-linejoin:miter;\"/>\r\n    </g>\r\n    <g id=\"line2d_17\">\r\n     <path d=\"M 288.7625 20.298437 \r\nL 308.7625 20.298437 \r\n\" style=\"fill:none;stroke:#1f77b4;stroke-linecap:square;stroke-width:1.5;\"/>\r\n    </g>\r\n    <g id=\"line2d_18\"/>\r\n    <g id=\"text_15\">\r\n     <!-- loss -->\r\n     <defs>\r\n      <path d=\"M 9.421875 75.984375 \r\nL 18.40625 75.984375 \r\nL 18.40625 0 \r\nL 9.421875 0 \r\nz\r\n\" id=\"DejaVuSans-108\"/>\r\n      <path d=\"M 30.609375 48.390625 \r\nQ 23.390625 48.390625 19.1875 42.75 \r\nQ 14.984375 37.109375 14.984375 27.296875 \r\nQ 14.984375 17.484375 19.15625 11.84375 \r\nQ 23.34375 6.203125 30.609375 6.203125 \r\nQ 37.796875 6.203125 41.984375 11.859375 \r\nQ 46.1875 17.53125 46.1875 27.296875 \r\nQ 46.1875 37.015625 41.984375 42.703125 \r\nQ 37.796875 48.390625 30.609375 48.390625 \r\nz\r\nM 30.609375 56 \r\nQ 42.328125 56 49.015625 48.375 \r\nQ 55.71875 40.765625 55.71875 27.296875 \r\nQ 55.71875 13.875 49.015625 6.21875 \r\nQ 42.328125 -1.421875 30.609375 -1.421875 \r\nQ 18.84375 -1.421875 12.171875 6.21875 \r\nQ 5.515625 13.875 5.515625 27.296875 \r\nQ 5.515625 40.765625 12.171875 48.375 \r\nQ 18.84375 56 30.609375 56 \r\nz\r\n\" id=\"DejaVuSans-111\"/>\r\n      <path d=\"M 44.28125 53.078125 \r\nL 44.28125 44.578125 \r\nQ 40.484375 46.53125 36.375 47.5 \r\nQ 32.28125 48.484375 27.875 48.484375 \r\nQ 21.1875 48.484375 17.84375 46.4375 \r\nQ 14.5 44.390625 14.5 40.28125 \r\nQ 14.5 37.15625 16.890625 35.375 \r\nQ 19.28125 33.59375 26.515625 31.984375 \r\nL 29.59375 31.296875 \r\nQ 39.15625 29.25 43.1875 25.515625 \r\nQ 47.21875 21.78125 47.21875 15.09375 \r\nQ 47.21875 7.46875 41.1875 3.015625 \r\nQ 35.15625 -1.421875 24.609375 -1.421875 \r\nQ 20.21875 -1.421875 15.453125 -0.5625 \r\nQ 10.6875 0.296875 5.421875 2 \r\nL 5.421875 11.28125 \r\nQ 10.40625 8.6875 15.234375 7.390625 \r\nQ 20.0625 6.109375 24.8125 6.109375 \r\nQ 31.15625 6.109375 34.5625 8.28125 \r\nQ 37.984375 10.453125 37.984375 14.40625 \r\nQ 37.984375 18.0625 35.515625 20.015625 \r\nQ 33.0625 21.96875 24.703125 23.78125 \r\nL 21.578125 24.515625 \r\nQ 13.234375 26.265625 9.515625 29.90625 \r\nQ 5.8125 33.546875 5.8125 39.890625 \r\nQ 5.8125 47.609375 11.28125 51.796875 \r\nQ 16.75 56 26.8125 56 \r\nQ 31.78125 56 36.171875 55.265625 \r\nQ 40.578125 54.546875 44.28125 53.078125 \r\nz\r\n\" id=\"DejaVuSans-115\"/>\r\n     </defs>\r\n     <g transform=\"translate(316.7625 23.798437)scale(0.1 -0.1)\">\r\n      <use xlink:href=\"#DejaVuSans-108\"/>\r\n      <use x=\"27.783203\" xlink:href=\"#DejaVuSans-111\"/>\r\n      <use x=\"88.964844\" xlink:href=\"#DejaVuSans-115\"/>\r\n      <use x=\"141.064453\" xlink:href=\"#DejaVuSans-115\"/>\r\n     </g>\r\n    </g>\r\n    <g id=\"line2d_19\">\r\n     <path d=\"M 288.7625 34.976562 \r\nL 308.7625 34.976562 \r\n\" style=\"fill:none;stroke:#ff7f0e;stroke-linecap:square;stroke-width:1.5;\"/>\r\n    </g>\r\n    <g id=\"line2d_20\"/>\r\n    <g id=\"text_16\">\r\n     <!-- val_loss -->\r\n     <defs>\r\n      <path d=\"M 2.984375 54.6875 \r\nL 12.5 54.6875 \r\nL 29.59375 8.796875 \r\nL 46.6875 54.6875 \r\nL 56.203125 54.6875 \r\nL 35.6875 0 \r\nL 23.484375 0 \r\nz\r\n\" id=\"DejaVuSans-118\"/>\r\n      <path d=\"M 34.28125 27.484375 \r\nQ 23.390625 27.484375 19.1875 25 \r\nQ 14.984375 22.515625 14.984375 16.5 \r\nQ 14.984375 11.71875 18.140625 8.90625 \r\nQ 21.296875 6.109375 26.703125 6.109375 \r\nQ 34.1875 6.109375 38.703125 11.40625 \r\nQ 43.21875 16.703125 43.21875 25.484375 \r\nL 43.21875 27.484375 \r\nz\r\nM 52.203125 31.203125 \r\nL 52.203125 0 \r\nL 43.21875 0 \r\nL 43.21875 8.296875 \r\nQ 40.140625 3.328125 35.546875 0.953125 \r\nQ 30.953125 -1.421875 24.3125 -1.421875 \r\nQ 15.921875 -1.421875 10.953125 3.296875 \r\nQ 6 8.015625 6 15.921875 \r\nQ 6 25.140625 12.171875 29.828125 \r\nQ 18.359375 34.515625 30.609375 34.515625 \r\nL 43.21875 34.515625 \r\nL 43.21875 35.40625 \r\nQ 43.21875 41.609375 39.140625 45 \r\nQ 35.0625 48.390625 27.6875 48.390625 \r\nQ 23 48.390625 18.546875 47.265625 \r\nQ 14.109375 46.140625 10.015625 43.890625 \r\nL 10.015625 52.203125 \r\nQ 14.9375 54.109375 19.578125 55.046875 \r\nQ 24.21875 56 28.609375 56 \r\nQ 40.484375 56 46.34375 49.84375 \r\nQ 52.203125 43.703125 52.203125 31.203125 \r\nz\r\n\" id=\"DejaVuSans-97\"/>\r\n      <path d=\"M 50.984375 -16.609375 \r\nL 50.984375 -23.578125 \r\nL -0.984375 -23.578125 \r\nL -0.984375 -16.609375 \r\nz\r\n\" id=\"DejaVuSans-95\"/>\r\n     </defs>\r\n     <g transform=\"translate(316.7625 38.476562)scale(0.1 -0.1)\">\r\n      <use xlink:href=\"#DejaVuSans-118\"/>\r\n      <use x=\"59.179688\" xlink:href=\"#DejaVuSans-97\"/>\r\n      <use x=\"120.458984\" xlink:href=\"#DejaVuSans-108\"/>\r\n      <use x=\"148.242188\" xlink:href=\"#DejaVuSans-95\"/>\r\n      <use x=\"198.242188\" xlink:href=\"#DejaVuSans-108\"/>\r\n      <use x=\"226.025391\" xlink:href=\"#DejaVuSans-111\"/>\r\n      <use x=\"287.207031\" xlink:href=\"#DejaVuSans-115\"/>\r\n      <use x=\"339.306641\" xlink:href=\"#DejaVuSans-115\"/>\r\n     </g>\r\n    </g>\r\n   </g>\r\n  </g>\r\n </g>\r\n <defs>\r\n  <clipPath id=\"pca6cf421c0\">\r\n   <rect height=\"217.44\" width=\"334.8\" x=\"30.103125\" y=\"7.2\"/>\r\n  </clipPath>\r\n </defs>\r\n</svg>\r\n",
      "image/png": "[encoded data removed]"
     },
     "metadata": {
      "needs_background": "light"
     }
    }
   ],
   "source": [
    "losses.plot()"
   ]
  },
  {
   "cell_type": "markdown",
   "metadata": {},
   "source": [
    "# Evaluation on Test Data\n",
    "\n",
    "https://scikit-learn.org/stable/modules/model_evaluation.html#regression-metrics"
   ]
  },
  {
   "cell_type": "code",
   "execution_count": 28,
   "metadata": {},
   "outputs": [],
   "source": [
    "from sklearn.metrics import mean_squared_error,mean_absolute_error,explained_variance_score"
   ]
  },
  {
   "cell_type": "markdown",
   "metadata": {},
   "source": [
    "#### Predicting on Brand New Data"
   ]
  },
  {
   "cell_type": "code",
   "execution_count": 29,
   "metadata": {},
   "outputs": [
    {
     "output_type": "execute_result",
     "data": {
      "text/plain": [
       "array([[9.68697830e-01, 9.47046843e-01, 9.58436214e-01, 5.22202746e-02],\n",
       "       [3.63939900e-01, 4.43177189e-01, 3.94238683e-01, 8.12153082e-02],\n",
       "       [9.84140234e-01, 9.60081466e-01, 9.76954733e-01, 4.79842244e-02],\n",
       "       [4.80383973e-01, 4.68431772e-01, 4.89711934e-01, 1.67981303e-02],\n",
       "       [4.15275459e-01, 4.11812627e-01, 4.40740741e-01, 7.15746421e-03],\n",
       "       [2.37896494e-01, 2.53767821e-01, 2.63374486e-01, 4.58661992e-02],\n",
       "       [6.08514190e-01, 6.16293279e-01, 5.69547325e-01, 2.74320771e-01],\n",
       "       [4.34891486e-01, 4.24032587e-01, 4.47736626e-01, 5.33158048e-03],\n",
       "       [3.88146912e-02, 9.36863544e-02, 7.48971193e-02, 5.11977797e-02],\n",
       "       [1.34808013e-01, 1.30346232e-01, 8.55967078e-02, 6.89453696e-02],\n",
       "       [1.33973289e-01, 1.52342159e-01, 1.57613169e-01, 2.93602103e-02],\n",
       "       [4.01085142e-01, 3.94297352e-01, 3.87654321e-01, 5.95968449e-02],\n",
       "       [2.14524207e-01, 2.24847251e-01, 2.43621399e-01, 1.70172363e-02],\n",
       "       [5.86811352e-01, 5.83706721e-01, 5.26337449e-01, 4.75314052e-01],\n",
       "       [1.18530885e-01, 1.32790224e-01, 1.41152263e-01, 4.25796085e-02],\n",
       "       [1.56510851e-01, 1.72708758e-01, 1.89711934e-01, 3.27928717e-02],\n",
       "       [9.59933222e-01, 9.42158859e-01, 9.55144033e-01, 3.01635992e-02],\n",
       "       [9.60767947e-01, 9.39307536e-01, 9.44855967e-01, 3.84165936e-02],\n",
       "       [1.99916528e-01, 1.93890020e-01, 2.27983539e-01, 1.46070698e-04],\n",
       "       [9.32804674e-01, 9.23421589e-01, 9.38683128e-01, 4.66695881e-02],\n",
       "       [2.09933222e-01, 2.11812627e-01, 2.39917695e-01, 3.35962606e-03],\n",
       "       [1.55258765e-01, 1.72301426e-01, 1.90123457e-01, 2.73882559e-02],\n",
       "       [2.27045075e-01, 2.24439919e-01, 2.46913580e-01, 1.45340345e-02],\n",
       "       [4.58681135e-01, 4.63951120e-01, 4.44855967e-01, 4.48437044e-02],\n",
       "       [4.00250417e-01, 4.12627291e-01, 4.30864198e-01, 7.96085305e-03],\n",
       "       [8.79382304e-01, 8.58248473e-01, 8.96296296e-01, 8.98334794e-03],\n",
       "       [9.16110184e-01, 8.99796334e-01, 9.25514403e-01, 3.02366345e-02],\n",
       "       [1.69866444e-01, 1.84928717e-01, 1.73662551e-01, 9.39964943e-02],\n",
       "       [1.94073456e-01, 2.27698574e-01, 2.26337449e-01, 3.33771545e-02],\n",
       "       [8.41402337e-01, 8.28513238e-01, 8.53909465e-01, 1.19047619e-02],\n",
       "       [9.38647746e-01, 9.42158859e-01, 9.62551440e-01, 3.10400234e-02],\n",
       "       [2.32888147e-01, 2.34623218e-01, 2.41152263e-01, 9.80864739e-02],\n",
       "       [4.64524207e-01, 4.54989817e-01, 4.79012346e-01, 8.91031259e-03],\n",
       "       [9.58263773e-01, 9.44602851e-01, 9.77777778e-01, 2.47589833e-02],\n",
       "       [9.06510851e-01, 8.94093686e-01, 9.14814815e-01, 4.36021034e-02],\n",
       "       [9.63689482e-01, 9.49490835e-01, 9.58847737e-01, 4.56470932e-02],\n",
       "       [2.51669449e-01, 3.06720978e-01, 2.79012346e-01, 7.95354952e-02],\n",
       "       [5.42570952e-02, 7.90224033e-02, 8.93004115e-02, 3.73940987e-02],\n",
       "       [1.41903172e-01, 1.54786151e-01, 1.73662551e-01, 8.17995910e-03],\n",
       "       [2.30801336e-01, 2.26069246e-01, 2.49382716e-01, 2.35173824e-02],\n",
       "       [9.04841402e-01, 8.99796334e-01, 9.25102881e-01, 2.95793164e-02],\n",
       "       [1.92404007e-01, 1.92260692e-01, 2.20987654e-01, 1.20508326e-02],\n",
       "       [6.01001669e-02, 8.18737271e-02, 7.36625514e-02, 4.55740578e-02],\n",
       "       [2.37896494e-01, 2.67209776e-01, 2.71604938e-01, 6.94566170e-02],\n",
       "       [4.10267112e-01, 3.99185336e-01, 3.91358025e-01, 3.62985685e-02],\n",
       "       [9.03589316e-01, 9.20570265e-01, 9.25514403e-01, 3.12591294e-02],\n",
       "       [3.63522538e-01, 3.94297352e-01, 3.83539095e-01, 4.17031843e-02],\n",
       "       [8.92737896e-01, 8.78207739e-01, 9.09876543e-01, 1.57756354e-02],\n",
       "       [8.54757930e-01, 8.37067210e-01, 8.60082305e-01, 1.88431201e-02],\n",
       "       [9.21953255e-01, 9.05498982e-01, 9.28806584e-01, 3.71019573e-02],\n",
       "       [8.38480801e-01, 8.24032587e-01, 8.58436214e-01, 1.07361963e-02],\n",
       "       [9.06093489e-01, 8.87983707e-01, 9.20987654e-01, 2.32982764e-02],\n",
       "       [4.35308848e-01, 4.31364562e-01, 4.40740741e-01, 7.77096115e-02],\n",
       "       [1.47328881e-01, 1.45824847e-01, 1.66666667e-01, 7.30353491e-03],\n",
       "       [9.48247078e-01, 9.59266802e-01, 9.53497942e-01, 9.48729185e-02],\n",
       "       [1.71953255e-01, 1.71486762e-01, 1.75720165e-01, 2.40286299e-02],\n",
       "       [9.38230384e-01, 9.47861507e-01, 9.37860082e-01, 6.14957639e-02],\n",
       "       [1.62353923e-01, 1.58859470e-01, 1.80658436e-01, 3.35962606e-03],\n",
       "       [9.36978297e-01, 9.50305499e-01, 9.58024691e-01, 4.61583406e-02],\n",
       "       [9.26126878e-01, 9.22199593e-01, 9.45267490e-01, 2.99444931e-02]])"
      ]
     },
     "metadata": {},
     "execution_count": 29
    }
   ],
   "source": [
    "X_test"
   ]
  },
  {
   "cell_type": "code",
   "execution_count": 30,
   "metadata": {},
   "outputs": [],
   "source": [
    "predictions = model.predict(X_test)"
   ]
  },
  {
   "cell_type": "code",
   "execution_count": 31,
   "metadata": {},
   "outputs": [
    {
     "output_type": "execute_result",
     "data": {
      "text/plain": [
       "0.004933854777654023"
      ]
     },
     "metadata": {},
     "execution_count": 31
    }
   ],
   "source": [
    "mean_absolute_error(y_test,predictions)"
   ]
  },
  {
   "cell_type": "code",
   "execution_count": 32,
   "metadata": {},
   "outputs": [
    {
     "output_type": "execute_result",
     "data": {
      "text/plain": [
       "0.006697438950441381"
      ]
     },
     "metadata": {},
     "execution_count": 32
    }
   ],
   "source": [
    "np.sqrt(mean_squared_error(y_test,predictions))"
   ]
  },
  {
   "cell_type": "code",
   "execution_count": 33,
   "metadata": {},
   "outputs": [
    {
     "output_type": "execute_result",
     "data": {
      "text/plain": [
       "0.33698073308651577"
      ]
     },
     "metadata": {},
     "execution_count": 33
    }
   ],
   "source": [
    "explained_variance_score(y_test,predictions)"
   ]
  },
  {
   "cell_type": "code",
   "execution_count": 36,
   "metadata": {},
   "outputs": [
    {
     "output_type": "execute_result",
     "data": {
      "text/plain": [
       "1.3995819500000002"
      ]
     },
     "metadata": {},
     "execution_count": 36
    }
   ],
   "source": [
    "df_market['close'].mean()"
   ]
  },
  {
   "cell_type": "code",
   "execution_count": 37,
   "metadata": {},
   "outputs": [
    {
     "output_type": "execute_result",
     "data": {
      "text/plain": [
       "1.398465"
      ]
     },
     "metadata": {},
     "execution_count": 37
    }
   ],
   "source": [
    "df_market['close'].median()"
   ]
  },
  {
   "cell_type": "code",
   "execution_count": 38,
   "metadata": {},
   "outputs": [
    {
     "output_type": "execute_result",
     "data": {
      "text/plain": [
       "[<matplotlib.lines.Line2D at 0x1b13e1530a0>]"
      ]
     },
     "metadata": {},
     "execution_count": 38
    },
    {
     "output_type": "display_data",
     "data": {
      "text/plain": "<Figure size 432x288 with 1 Axes>",
      "image/svg+xml": "<?xml version=\"1.0\" encoding=\"utf-8\" standalone=\"no\"?>\r\n<!DOCTYPE svg PUBLIC \"-//W3C//DTD SVG 1.1//EN\"\r\n  \"http://www.w3.org/Graphics/SVG/1.1/DTD/svg11.dtd\">\r\n<!-- Created with matplotlib (https://matplotlib.org/) -->\r\n<svg height=\"248.518125pt\" version=\"1.1\" viewBox=\"0 0 378.465625 248.518125\" width=\"378.465625pt\" xmlns=\"http://www.w3.org/2000/svg\" xmlns:xlink=\"http://www.w3.org/1999/xlink\">\r\n <defs>\r\n  <style type=\"text/css\">\r\n*{stroke-linecap:butt;stroke-linejoin:round;}\r\n  </style>\r\n </defs>\r\n <g id=\"figure_1\">\r\n  <g id=\"patch_1\">\r\n   <path d=\"M 0 248.518125 \r\nL 378.465625 248.518125 \r\nL 378.465625 0 \r\nL 0 0 \r\nz\r\n\" style=\"fill:none;\"/>\r\n  </g>\r\n  <g id=\"axes_1\">\r\n   <g id=\"patch_2\">\r\n    <path d=\"M 36.465625 224.64 \r\nL 371.265625 224.64 \r\nL 371.265625 7.2 \r\nL 36.465625 7.2 \r\nz\r\n\" style=\"fill:#ffffff;\"/>\r\n   </g>\r\n   <g id=\"PathCollection_1\">\r\n    <defs>\r\n     <path d=\"M 0 3 \r\nC 0.795609 3 1.55874 2.683901 2.12132 2.12132 \r\nC 2.683901 1.55874 3 0.795609 3 0 \r\nC 3 -0.795609 2.683901 -1.55874 2.12132 -2.12132 \r\nC 1.55874 -2.683901 0.795609 -3 0 -3 \r\nC -0.795609 -3 -1.55874 -2.683901 -2.12132 -2.12132 \r\nC -2.683901 -1.55874 -3 -0.795609 -3 0 \r\nC -3 0.795609 -2.683901 1.55874 -2.12132 2.12132 \r\nC -1.55874 2.683901 -0.795609 3 0 3 \r\nz\r\n\" id=\"mfaab3e61e6\" style=\"stroke:#1f77b4;\"/>\r\n    </defs>\r\n    <g clip-path=\"url(#pd1247ced73)\">\r\n     <use style=\"fill:#1f77b4;stroke:#1f77b4;\" x=\"345.377617\" xlink:href=\"#mfaab3e61e6\" y=\"26.731255\"/>\r\n     <use style=\"fill:#1f77b4;stroke:#1f77b4;\" x=\"179.858516\" xlink:href=\"#mfaab3e61e6\" y=\"209.830618\"/>\r\n     <use style=\"fill:#1f77b4;stroke:#1f77b4;\" x=\"354.816309\" xlink:href=\"#mfaab3e61e6\" y=\"17.083636\"/>\r\n     <use style=\"fill:#1f77b4;stroke:#1f77b4;\" x=\"191.212305\" xlink:href=\"#mfaab3e61e6\" y=\"98.252212\"/>\r\n     <use style=\"fill:#1f77b4;stroke:#1f77b4;\" x=\"177.669833\" xlink:href=\"#mfaab3e61e6\" y=\"114.864303\"/>\r\n     <use style=\"fill:#1f77b4;stroke:#1f77b4;\" x=\"117.070691\" xlink:href=\"#mfaab3e61e6\" y=\"94.403863\"/>\r\n     <use style=\"fill:#1f77b4;stroke:#1f77b4;\" x=\"231.429343\" xlink:href=\"#mfaab3e61e6\" y=\"90.771498\"/>\r\n     <use style=\"fill:#1f77b4;stroke:#1f77b4;\" x=\"178.627382\" xlink:href=\"#mfaab3e61e6\" y=\"119.390882\"/>\r\n     <use style=\"fill:#1f77b4;stroke:#1f77b4;\" x=\"62.080048\" xlink:href=\"#mfaab3e61e6\" y=\"214.756364\"/>\r\n     <use style=\"fill:#1f77b4;stroke:#1f77b4;\" x=\"57.976269\" xlink:href=\"#mfaab3e61e6\" y=\"141.256226\"/>\r\n     <use style=\"fill:#1f77b4;stroke:#1f77b4;\" x=\"90.12254\" xlink:href=\"#mfaab3e61e6\" y=\"104.908352\"/>\r\n     <use style=\"fill:#1f77b4;stroke:#1f77b4;\" x=\"161.938679\" xlink:href=\"#mfaab3e61e6\" y=\"88.952792\"/>\r\n     <use style=\"fill:#1f77b4;stroke:#1f77b4;\" x=\"113.37729\" xlink:href=\"#mfaab3e61e6\" y=\"113.625423\"/>\r\n     <use style=\"fill:#1f77b4;stroke:#1f77b4;\" x=\"202.155717\" xlink:href=\"#mfaab3e61e6\" y=\"30.484228\"/>\r\n     <use style=\"fill:#1f77b4;stroke:#1f77b4;\" x=\"83.009323\" xlink:href=\"#mfaab3e61e6\" y=\"106.260775\"/>\r\n     <use style=\"fill:#1f77b4;stroke:#1f77b4;\" x=\"94.22632\" xlink:href=\"#mfaab3e61e6\" y=\"90.279478\"/>\r\n     <use style=\"fill:#1f77b4;stroke:#1f77b4;\" x=\"348.250262\" xlink:href=\"#mfaab3e61e6\" y=\"40.37508\"/>\r\n     <use style=\"fill:#1f77b4;stroke:#1f77b4;\" x=\"342.231386\" xlink:href=\"#mfaab3e61e6\" y=\"38.649732\"/>\r\n     <use style=\"fill:#1f77b4;stroke:#1f77b4;\" x=\"102.981049\" xlink:href=\"#mfaab3e61e6\" y=\"135.146606\"/>\r\n     <use style=\"fill:#1f77b4;stroke:#1f77b4;\" x=\"342.504971\" xlink:href=\"#mfaab3e61e6\" y=\"44.072039\"/>\r\n     <use style=\"fill:#1f77b4;stroke:#1f77b4;\" x=\"108.863133\" xlink:href=\"#mfaab3e61e6\" y=\"132.670361\"/>\r\n     <use style=\"fill:#1f77b4;stroke:#1f77b4;\" x=\"97.235758\" xlink:href=\"#mfaab3e61e6\" y=\"99.70102\"/>\r\n     <use style=\"fill:#1f77b4;stroke:#1f77b4;\" x=\"109.273511\" xlink:href=\"#mfaab3e61e6\" y=\"114.265301\"/>\r\n     <use style=\"fill:#1f77b4;stroke:#1f77b4;\" x=\"174.523603\" xlink:href=\"#mfaab3e61e6\" y=\"120.553057\"/>\r\n     <use style=\"fill:#1f77b4;stroke:#1f77b4;\" x=\"175.207566\" xlink:href=\"#mfaab3e61e6\" y=\"120.197289\"/>\r\n     <use style=\"fill:#1f77b4;stroke:#1f77b4;\" x=\"324.995513\" xlink:href=\"#mfaab3e61e6\" y=\"45.943227\"/>\r\n     <use style=\"fill:#1f77b4;stroke:#1f77b4;\" x=\"335.938924\" xlink:href=\"#mfaab3e61e6\" y=\"40.137397\"/>\r\n     <use style=\"fill:#1f77b4;stroke:#1f77b4;\" x=\"94.910283\" xlink:href=\"#mfaab3e61e6\" y=\"95.837532\"/>\r\n     <use style=\"fill:#1f77b4;stroke:#1f77b4;\" x=\"114.608424\" xlink:href=\"#mfaab3e61e6\" y=\"125.214878\"/>\r\n     <use style=\"fill:#1f77b4;stroke:#1f77b4;\" x=\"316.377576\" xlink:href=\"#mfaab3e61e6\" y=\"64.849894\"/>\r\n     <use style=\"fill:#1f77b4;stroke:#1f77b4;\" x=\"354.542724\" xlink:href=\"#mfaab3e61e6\" y=\"58.071633\"/>\r\n     <use style=\"fill:#1f77b4;stroke:#1f77b4;\" x=\"115.839558\" xlink:href=\"#mfaab3e61e6\" y=\"66.821\"/>\r\n     <use style=\"fill:#1f77b4;stroke:#1f77b4;\" x=\"186.424563\" xlink:href=\"#mfaab3e61e6\" y=\"112.181157\"/>\r\n     <use style=\"fill:#1f77b4;stroke:#1f77b4;\" x=\"353.174798\" xlink:href=\"#mfaab3e61e6\" y=\"31.502077\"/>\r\n     <use style=\"fill:#1f77b4;stroke:#1f77b4;\" x=\"339.35874\" xlink:href=\"#mfaab3e61e6\" y=\"43.266136\"/>\r\n     <use style=\"fill:#1f77b4;stroke:#1f77b4;\" x=\"346.06158\" xlink:href=\"#mfaab3e61e6\" y=\"38.901041\"/>\r\n     <use style=\"fill:#1f77b4;stroke:#1f77b4;\" x=\"134.443357\" xlink:href=\"#mfaab3e61e6\" y=\"162.471096\"/>\r\n     <use style=\"fill:#1f77b4;stroke:#1f77b4;\" x=\"61.396085\" xlink:href=\"#mfaab3e61e6\" y=\"173.188541\"/>\r\n     <use style=\"fill:#1f77b4;stroke:#1f77b4;\" x=\"91.080089\" xlink:href=\"#mfaab3e61e6\" y=\"134.230693\"/>\r\n     <use style=\"fill:#1f77b4;stroke:#1f77b4;\" x=\"114.745216\" xlink:href=\"#mfaab3e61e6\" y=\"97.218719\"/>\r\n     <use style=\"fill:#1f77b4;stroke:#1f77b4;\" x=\"335.665339\" xlink:href=\"#mfaab3e61e6\" y=\"53.177174\"/>\r\n     <use style=\"fill:#1f77b4;stroke:#1f77b4;\" x=\"101.613122\" xlink:href=\"#mfaab3e61e6\" y=\"117.613052\"/>\r\n     <use style=\"fill:#1f77b4;stroke:#1f77b4;\" x=\"51.683807\" xlink:href=\"#mfaab3e61e6\" y=\"186.581563\"/>\r\n     <use style=\"fill:#1f77b4;stroke:#1f77b4;\" x=\"117.754655\" xlink:href=\"#mfaab3e61e6\" y=\"107.062136\"/>\r\n     <use style=\"fill:#1f77b4;stroke:#1f77b4;\" x=\"160.707545\" xlink:href=\"#mfaab3e61e6\" y=\"92.488772\"/>\r\n     <use style=\"fill:#1f77b4;stroke:#1f77b4;\" x=\"344.00969\" xlink:href=\"#mfaab3e61e6\" y=\"88.027291\"/>\r\n     <use style=\"fill:#1f77b4;stroke:#1f77b4;\" x=\"171.78775\" xlink:href=\"#mfaab3e61e6\" y=\"136.708453\"/>\r\n     <use style=\"fill:#1f77b4;stroke:#1f77b4;\" x=\"334.16062\" xlink:href=\"#mfaab3e61e6\" y=\"47.9108\"/>\r\n     <use style=\"fill:#1f77b4;stroke:#1f77b4;\" x=\"314.872857\" xlink:href=\"#mfaab3e61e6\" y=\"56.73233\"/>\r\n     <use style=\"fill:#1f77b4;stroke:#1f77b4;\" x=\"335.528546\" xlink:href=\"#mfaab3e61e6\" y=\"37.731296\"/>\r\n     <use style=\"fill:#1f77b4;stroke:#1f77b4;\" x=\"314.736064\" xlink:href=\"#mfaab3e61e6\" y=\"57.82537\"/>\r\n     <use style=\"fill:#1f77b4;stroke:#1f77b4;\" x=\"335.938924\" xlink:href=\"#mfaab3e61e6\" y=\"37.945261\"/>\r\n     <use style=\"fill:#1f77b4;stroke:#1f77b4;\" x=\"173.976432\" xlink:href=\"#mfaab3e61e6\" y=\"73.692115\"/>\r\n     <use style=\"fill:#1f77b4;stroke:#1f77b4;\" x=\"87.386687\" xlink:href=\"#mfaab3e61e6\" y=\"133.274914\"/>\r\n     <use style=\"fill:#1f77b4;stroke:#1f77b4;\" x=\"351.806871\" xlink:href=\"#mfaab3e61e6\" y=\"54.558866\"/>\r\n     <use style=\"fill:#1f77b4;stroke:#1f77b4;\" x=\"86.018761\" xlink:href=\"#mfaab3e61e6\" y=\"110.937231\"/>\r\n     <use style=\"fill:#1f77b4;stroke:#1f77b4;\" x=\"356.047443\" xlink:href=\"#mfaab3e61e6\" y=\"72.778725\"/>\r\n     <use style=\"fill:#1f77b4;stroke:#1f77b4;\" x=\"86.839517\" xlink:href=\"#mfaab3e61e6\" y=\"138.752226\"/>\r\n     <use style=\"fill:#1f77b4;stroke:#1f77b4;\" x=\"353.995553\" xlink:href=\"#mfaab3e61e6\" y=\"70.145538\"/>\r\n     <use style=\"fill:#1f77b4;stroke:#1f77b4;\" x=\"347.976677\" xlink:href=\"#mfaab3e61e6\" y=\"51.916091\"/>\r\n    </g>\r\n   </g>\r\n   <g id=\"matplotlib.axis_1\">\r\n    <g id=\"xtick_1\">\r\n     <g id=\"line2d_1\">\r\n      <defs>\r\n       <path d=\"M 0 0 \r\nL 0 3.5 \r\n\" id=\"me08c2e9c06\" style=\"stroke:#000000;stroke-width:0.8;\"/>\r\n      </defs>\r\n      <g>\r\n       <use style=\"stroke:#000000;stroke-width:0.8;\" x=\"57.292305\" xlink:href=\"#me08c2e9c06\" y=\"224.64\"/>\r\n      </g>\r\n     </g>\r\n     <g id=\"text_1\">\r\n      <!-- 1.390 -->\r\n      <defs>\r\n       <path d=\"M 12.40625 8.296875 \r\nL 28.515625 8.296875 \r\nL 28.515625 63.921875 \r\nL 10.984375 60.40625 \r\nL 10.984375 69.390625 \r\nL 28.421875 72.90625 \r\nL 38.28125 72.90625 \r\nL 38.28125 8.296875 \r\nL 54.390625 8.296875 \r\nL 54.390625 0 \r\nL 12.40625 0 \r\nz\r\n\" id=\"DejaVuSans-49\"/>\r\n       <path d=\"M 10.6875 12.40625 \r\nL 21 12.40625 \r\nL 21 0 \r\nL 10.6875 0 \r\nz\r\n\" id=\"DejaVuSans-46\"/>\r\n       <path d=\"M 40.578125 39.3125 \r\nQ 47.65625 37.796875 51.625 33 \r\nQ 55.609375 28.21875 55.609375 21.1875 \r\nQ 55.609375 10.40625 48.1875 4.484375 \r\nQ 40.765625 -1.421875 27.09375 -1.421875 \r\nQ 22.515625 -1.421875 17.65625 -0.515625 \r\nQ 12.796875 0.390625 7.625 2.203125 \r\nL 7.625 11.71875 \r\nQ 11.71875 9.328125 16.59375 8.109375 \r\nQ 21.484375 6.890625 26.8125 6.890625 \r\nQ 36.078125 6.890625 40.9375 10.546875 \r\nQ 45.796875 14.203125 45.796875 21.1875 \r\nQ 45.796875 27.640625 41.28125 31.265625 \r\nQ 36.765625 34.90625 28.71875 34.90625 \r\nL 20.21875 34.90625 \r\nL 20.21875 43.015625 \r\nL 29.109375 43.015625 \r\nQ 36.375 43.015625 40.234375 45.921875 \r\nQ 44.09375 48.828125 44.09375 54.296875 \r\nQ 44.09375 59.90625 40.109375 62.90625 \r\nQ 36.140625 65.921875 28.71875 65.921875 \r\nQ 24.65625 65.921875 20.015625 65.03125 \r\nQ 15.375 64.15625 9.8125 62.3125 \r\nL 9.8125 71.09375 \r\nQ 15.4375 72.65625 20.34375 73.4375 \r\nQ 25.25 74.21875 29.59375 74.21875 \r\nQ 40.828125 74.21875 47.359375 69.109375 \r\nQ 53.90625 64.015625 53.90625 55.328125 \r\nQ 53.90625 49.265625 50.4375 45.09375 \r\nQ 46.96875 40.921875 40.578125 39.3125 \r\nz\r\n\" id=\"DejaVuSans-51\"/>\r\n       <path d=\"M 10.984375 1.515625 \r\nL 10.984375 10.5 \r\nQ 14.703125 8.734375 18.5 7.8125 \r\nQ 22.3125 6.890625 25.984375 6.890625 \r\nQ 35.75 6.890625 40.890625 13.453125 \r\nQ 46.046875 20.015625 46.78125 33.40625 \r\nQ 43.953125 29.203125 39.59375 26.953125 \r\nQ 35.25 24.703125 29.984375 24.703125 \r\nQ 19.046875 24.703125 12.671875 31.3125 \r\nQ 6.296875 37.9375 6.296875 49.421875 \r\nQ 6.296875 60.640625 12.9375 67.421875 \r\nQ 19.578125 74.21875 30.609375 74.21875 \r\nQ 43.265625 74.21875 49.921875 64.515625 \r\nQ 56.59375 54.828125 56.59375 36.375 \r\nQ 56.59375 19.140625 48.40625 8.859375 \r\nQ 40.234375 -1.421875 26.421875 -1.421875 \r\nQ 22.703125 -1.421875 18.890625 -0.6875 \r\nQ 15.09375 0.046875 10.984375 1.515625 \r\nz\r\nM 30.609375 32.421875 \r\nQ 37.25 32.421875 41.125 36.953125 \r\nQ 45.015625 41.5 45.015625 49.421875 \r\nQ 45.015625 57.28125 41.125 61.84375 \r\nQ 37.25 66.40625 30.609375 66.40625 \r\nQ 23.96875 66.40625 20.09375 61.84375 \r\nQ 16.21875 57.28125 16.21875 49.421875 \r\nQ 16.21875 41.5 20.09375 36.953125 \r\nQ 23.96875 32.421875 30.609375 32.421875 \r\nz\r\n\" id=\"DejaVuSans-57\"/>\r\n       <path d=\"M 31.78125 66.40625 \r\nQ 24.171875 66.40625 20.328125 58.90625 \r\nQ 16.5 51.421875 16.5 36.375 \r\nQ 16.5 21.390625 20.328125 13.890625 \r\nQ 24.171875 6.390625 31.78125 6.390625 \r\nQ 39.453125 6.390625 43.28125 13.890625 \r\nQ 47.125 21.390625 47.125 36.375 \r\nQ 47.125 51.421875 43.28125 58.90625 \r\nQ 39.453125 66.40625 31.78125 66.40625 \r\nz\r\nM 31.78125 74.21875 \r\nQ 44.046875 74.21875 50.515625 64.515625 \r\nQ 56.984375 54.828125 56.984375 36.375 \r\nQ 56.984375 17.96875 50.515625 8.265625 \r\nQ 44.046875 -1.421875 31.78125 -1.421875 \r\nQ 19.53125 -1.421875 13.0625 8.265625 \r\nQ 6.59375 17.96875 6.59375 36.375 \r\nQ 6.59375 54.828125 13.0625 64.515625 \r\nQ 19.53125 74.21875 31.78125 74.21875 \r\nz\r\n\" id=\"DejaVuSans-48\"/>\r\n      </defs>\r\n      <g transform=\"translate(42.978243 239.238438)scale(0.1 -0.1)\">\r\n       <use xlink:href=\"#DejaVuSans-49\"/>\r\n       <use x=\"63.623047\" xlink:href=\"#DejaVuSans-46\"/>\r\n       <use x=\"95.410156\" xlink:href=\"#DejaVuSans-51\"/>\r\n       <use x=\"159.033203\" xlink:href=\"#DejaVuSans-57\"/>\r\n       <use x=\"222.65625\" xlink:href=\"#DejaVuSans-48\"/>\r\n      </g>\r\n     </g>\r\n    </g>\r\n    <g id=\"xtick_2\">\r\n     <g id=\"line2d_2\">\r\n      <g>\r\n       <use style=\"stroke:#000000;stroke-width:0.8;\" x=\"125.688628\" xlink:href=\"#me08c2e9c06\" y=\"224.64\"/>\r\n      </g>\r\n     </g>\r\n     <g id=\"text_2\">\r\n      <!-- 1.395 -->\r\n      <defs>\r\n       <path d=\"M 10.796875 72.90625 \r\nL 49.515625 72.90625 \r\nL 49.515625 64.59375 \r\nL 19.828125 64.59375 \r\nL 19.828125 46.734375 \r\nQ 21.96875 47.46875 24.109375 47.828125 \r\nQ 26.265625 48.1875 28.421875 48.1875 \r\nQ 40.625 48.1875 47.75 41.5 \r\nQ 54.890625 34.8125 54.890625 23.390625 \r\nQ 54.890625 11.625 47.5625 5.09375 \r\nQ 40.234375 -1.421875 26.90625 -1.421875 \r\nQ 22.3125 -1.421875 17.546875 -0.640625 \r\nQ 12.796875 0.140625 7.71875 1.703125 \r\nL 7.71875 11.625 \r\nQ 12.109375 9.234375 16.796875 8.0625 \r\nQ 21.484375 6.890625 26.703125 6.890625 \r\nQ 35.15625 6.890625 40.078125 11.328125 \r\nQ 45.015625 15.765625 45.015625 23.390625 \r\nQ 45.015625 31 40.078125 35.4375 \r\nQ 35.15625 39.890625 26.703125 39.890625 \r\nQ 22.75 39.890625 18.8125 39.015625 \r\nQ 14.890625 38.140625 10.796875 36.28125 \r\nz\r\n\" id=\"DejaVuSans-53\"/>\r\n      </defs>\r\n      <g transform=\"translate(111.374566 239.238438)scale(0.1 -0.1)\">\r\n       <use xlink:href=\"#DejaVuSans-49\"/>\r\n       <use x=\"63.623047\" xlink:href=\"#DejaVuSans-46\"/>\r\n       <use x=\"95.410156\" xlink:href=\"#DejaVuSans-51\"/>\r\n       <use x=\"159.033203\" xlink:href=\"#DejaVuSans-57\"/>\r\n       <use x=\"222.65625\" xlink:href=\"#DejaVuSans-53\"/>\r\n      </g>\r\n     </g>\r\n    </g>\r\n    <g id=\"xtick_3\">\r\n     <g id=\"line2d_3\">\r\n      <g>\r\n       <use style=\"stroke:#000000;stroke-width:0.8;\" x=\"194.084951\" xlink:href=\"#me08c2e9c06\" y=\"224.64\"/>\r\n      </g>\r\n     </g>\r\n     <g id=\"text_3\">\r\n      <!-- 1.400 -->\r\n      <defs>\r\n       <path d=\"M 37.796875 64.3125 \r\nL 12.890625 25.390625 \r\nL 37.796875 25.390625 \r\nz\r\nM 35.203125 72.90625 \r\nL 47.609375 72.90625 \r\nL 47.609375 25.390625 \r\nL 58.015625 25.390625 \r\nL 58.015625 17.1875 \r\nL 47.609375 17.1875 \r\nL 47.609375 0 \r\nL 37.796875 0 \r\nL 37.796875 17.1875 \r\nL 4.890625 17.1875 \r\nL 4.890625 26.703125 \r\nz\r\n\" id=\"DejaVuSans-52\"/>\r\n      </defs>\r\n      <g transform=\"translate(179.770888 239.238438)scale(0.1 -0.1)\">\r\n       <use xlink:href=\"#DejaVuSans-49\"/>\r\n       <use x=\"63.623047\" xlink:href=\"#DejaVuSans-46\"/>\r\n       <use x=\"95.410156\" xlink:href=\"#DejaVuSans-52\"/>\r\n       <use x=\"159.033203\" xlink:href=\"#DejaVuSans-48\"/>\r\n       <use x=\"222.65625\" xlink:href=\"#DejaVuSans-48\"/>\r\n      </g>\r\n     </g>\r\n    </g>\r\n    <g id=\"xtick_4\">\r\n     <g id=\"line2d_4\">\r\n      <g>\r\n       <use style=\"stroke:#000000;stroke-width:0.8;\" x=\"262.481274\" xlink:href=\"#me08c2e9c06\" y=\"224.64\"/>\r\n      </g>\r\n     </g>\r\n     <g id=\"text_4\">\r\n      <!-- 1.405 -->\r\n      <g transform=\"translate(248.167211 239.238438)scale(0.1 -0.1)\">\r\n       <use xlink:href=\"#DejaVuSans-49\"/>\r\n       <use x=\"63.623047\" xlink:href=\"#DejaVuSans-46\"/>\r\n       <use x=\"95.410156\" xlink:href=\"#DejaVuSans-52\"/>\r\n       <use x=\"159.033203\" xlink:href=\"#DejaVuSans-48\"/>\r\n       <use x=\"222.65625\" xlink:href=\"#DejaVuSans-53\"/>\r\n      </g>\r\n     </g>\r\n    </g>\r\n    <g id=\"xtick_5\">\r\n     <g id=\"line2d_5\">\r\n      <g>\r\n       <use style=\"stroke:#000000;stroke-width:0.8;\" x=\"330.877596\" xlink:href=\"#me08c2e9c06\" y=\"224.64\"/>\r\n      </g>\r\n     </g>\r\n     <g id=\"text_5\">\r\n      <!-- 1.410 -->\r\n      <g transform=\"translate(316.563534 239.238438)scale(0.1 -0.1)\">\r\n       <use xlink:href=\"#DejaVuSans-49\"/>\r\n       <use x=\"63.623047\" xlink:href=\"#DejaVuSans-46\"/>\r\n       <use x=\"95.410156\" xlink:href=\"#DejaVuSans-52\"/>\r\n       <use x=\"159.033203\" xlink:href=\"#DejaVuSans-49\"/>\r\n       <use x=\"222.65625\" xlink:href=\"#DejaVuSans-48\"/>\r\n      </g>\r\n     </g>\r\n    </g>\r\n   </g>\r\n   <g id=\"matplotlib.axis_2\">\r\n    <g id=\"ytick_1\">\r\n     <g id=\"line2d_6\">\r\n      <defs>\r\n       <path d=\"M 0 0 \r\nL -3.5 0 \r\n\" id=\"m5ead33c7d0\" style=\"stroke:#000000;stroke-width:0.8;\"/>\r\n      </defs>\r\n      <g>\r\n       <use style=\"stroke:#000000;stroke-width:0.8;\" x=\"36.465625\" xlink:href=\"#m5ead33c7d0\" y=\"186.358494\"/>\r\n      </g>\r\n     </g>\r\n     <g id=\"text_6\">\r\n      <!-- 1.38 -->\r\n      <defs>\r\n       <path d=\"M 31.78125 34.625 \r\nQ 24.75 34.625 20.71875 30.859375 \r\nQ 16.703125 27.09375 16.703125 20.515625 \r\nQ 16.703125 13.921875 20.71875 10.15625 \r\nQ 24.75 6.390625 31.78125 6.390625 \r\nQ 38.8125 6.390625 42.859375 10.171875 \r\nQ 46.921875 13.96875 46.921875 20.515625 \r\nQ 46.921875 27.09375 42.890625 30.859375 \r\nQ 38.875 34.625 31.78125 34.625 \r\nz\r\nM 21.921875 38.8125 \r\nQ 15.578125 40.375 12.03125 44.71875 \r\nQ 8.5 49.078125 8.5 55.328125 \r\nQ 8.5 64.0625 14.71875 69.140625 \r\nQ 20.953125 74.21875 31.78125 74.21875 \r\nQ 42.671875 74.21875 48.875 69.140625 \r\nQ 55.078125 64.0625 55.078125 55.328125 \r\nQ 55.078125 49.078125 51.53125 44.71875 \r\nQ 48 40.375 41.703125 38.8125 \r\nQ 48.828125 37.15625 52.796875 32.3125 \r\nQ 56.78125 27.484375 56.78125 20.515625 \r\nQ 56.78125 9.90625 50.3125 4.234375 \r\nQ 43.84375 -1.421875 31.78125 -1.421875 \r\nQ 19.734375 -1.421875 13.25 4.234375 \r\nQ 6.78125 9.90625 6.78125 20.515625 \r\nQ 6.78125 27.484375 10.78125 32.3125 \r\nQ 14.796875 37.15625 21.921875 38.8125 \r\nz\r\nM 18.3125 54.390625 \r\nQ 18.3125 48.734375 21.84375 45.5625 \r\nQ 25.390625 42.390625 31.78125 42.390625 \r\nQ 38.140625 42.390625 41.71875 45.5625 \r\nQ 45.3125 48.734375 45.3125 54.390625 \r\nQ 45.3125 60.0625 41.71875 63.234375 \r\nQ 38.140625 66.40625 31.78125 66.40625 \r\nQ 25.390625 66.40625 21.84375 63.234375 \r\nQ 18.3125 60.0625 18.3125 54.390625 \r\nz\r\n\" id=\"DejaVuSans-56\"/>\r\n      </defs>\r\n      <g transform=\"translate(7.2 190.157713)scale(0.1 -0.1)\">\r\n       <use xlink:href=\"#DejaVuSans-49\"/>\r\n       <use x=\"63.623047\" xlink:href=\"#DejaVuSans-46\"/>\r\n       <use x=\"95.410156\" xlink:href=\"#DejaVuSans-51\"/>\r\n       <use x=\"159.033203\" xlink:href=\"#DejaVuSans-56\"/>\r\n      </g>\r\n     </g>\r\n    </g>\r\n    <g id=\"ytick_2\">\r\n     <g id=\"line2d_7\">\r\n      <g>\r\n       <use style=\"stroke:#000000;stroke-width:0.8;\" x=\"36.465625\" xlink:href=\"#m5ead33c7d0\" y=\"144.026614\"/>\r\n      </g>\r\n     </g>\r\n     <g id=\"text_7\">\r\n      <!-- 1.39 -->\r\n      <g transform=\"translate(7.2 147.825833)scale(0.1 -0.1)\">\r\n       <use xlink:href=\"#DejaVuSans-49\"/>\r\n       <use x=\"63.623047\" xlink:href=\"#DejaVuSans-46\"/>\r\n       <use x=\"95.410156\" xlink:href=\"#DejaVuSans-51\"/>\r\n       <use x=\"159.033203\" xlink:href=\"#DejaVuSans-57\"/>\r\n      </g>\r\n     </g>\r\n    </g>\r\n    <g id=\"ytick_3\">\r\n     <g id=\"line2d_8\">\r\n      <g>\r\n       <use style=\"stroke:#000000;stroke-width:0.8;\" x=\"36.465625\" xlink:href=\"#m5ead33c7d0\" y=\"101.694733\"/>\r\n      </g>\r\n     </g>\r\n     <g id=\"text_8\">\r\n      <!-- 1.40 -->\r\n      <g transform=\"translate(7.2 105.493952)scale(0.1 -0.1)\">\r\n       <use xlink:href=\"#DejaVuSans-49\"/>\r\n       <use x=\"63.623047\" xlink:href=\"#DejaVuSans-46\"/>\r\n       <use x=\"95.410156\" xlink:href=\"#DejaVuSans-52\"/>\r\n       <use x=\"159.033203\" xlink:href=\"#DejaVuSans-48\"/>\r\n      </g>\r\n     </g>\r\n    </g>\r\n    <g id=\"ytick_4\">\r\n     <g id=\"line2d_9\">\r\n      <g>\r\n       <use style=\"stroke:#000000;stroke-width:0.8;\" x=\"36.465625\" xlink:href=\"#m5ead33c7d0\" y=\"59.362853\"/>\r\n      </g>\r\n     </g>\r\n     <g id=\"text_9\">\r\n      <!-- 1.41 -->\r\n      <g transform=\"translate(7.2 63.162072)scale(0.1 -0.1)\">\r\n       <use xlink:href=\"#DejaVuSans-49\"/>\r\n       <use x=\"63.623047\" xlink:href=\"#DejaVuSans-46\"/>\r\n       <use x=\"95.410156\" xlink:href=\"#DejaVuSans-52\"/>\r\n       <use x=\"159.033203\" xlink:href=\"#DejaVuSans-49\"/>\r\n      </g>\r\n     </g>\r\n    </g>\r\n    <g id=\"ytick_5\">\r\n     <g id=\"line2d_10\">\r\n      <g>\r\n       <use style=\"stroke:#000000;stroke-width:0.8;\" x=\"36.465625\" xlink:href=\"#m5ead33c7d0\" y=\"17.030973\"/>\r\n      </g>\r\n     </g>\r\n     <g id=\"text_10\">\r\n      <!-- 1.42 -->\r\n      <defs>\r\n       <path d=\"M 19.1875 8.296875 \r\nL 53.609375 8.296875 \r\nL 53.609375 0 \r\nL 7.328125 0 \r\nL 7.328125 8.296875 \r\nQ 12.9375 14.109375 22.625 23.890625 \r\nQ 32.328125 33.6875 34.8125 36.53125 \r\nQ 39.546875 41.84375 41.421875 45.53125 \r\nQ 43.3125 49.21875 43.3125 52.78125 \r\nQ 43.3125 58.59375 39.234375 62.25 \r\nQ 35.15625 65.921875 28.609375 65.921875 \r\nQ 23.96875 65.921875 18.8125 64.3125 \r\nQ 13.671875 62.703125 7.8125 59.421875 \r\nL 7.8125 69.390625 \r\nQ 13.765625 71.78125 18.9375 73 \r\nQ 24.125 74.21875 28.421875 74.21875 \r\nQ 39.75 74.21875 46.484375 68.546875 \r\nQ 53.21875 62.890625 53.21875 53.421875 \r\nQ 53.21875 48.921875 51.53125 44.890625 \r\nQ 49.859375 40.875 45.40625 35.40625 \r\nQ 44.1875 33.984375 37.640625 27.21875 \r\nQ 31.109375 20.453125 19.1875 8.296875 \r\nz\r\n\" id=\"DejaVuSans-50\"/>\r\n      </defs>\r\n      <g transform=\"translate(7.2 20.830191)scale(0.1 -0.1)\">\r\n       <use xlink:href=\"#DejaVuSans-49\"/>\r\n       <use x=\"63.623047\" xlink:href=\"#DejaVuSans-46\"/>\r\n       <use x=\"95.410156\" xlink:href=\"#DejaVuSans-52\"/>\r\n       <use x=\"159.033203\" xlink:href=\"#DejaVuSans-50\"/>\r\n      </g>\r\n     </g>\r\n    </g>\r\n   </g>\r\n   <g id=\"line2d_11\">\r\n    <path clip-path=\"url(#pd1247ced73)\" d=\"M 345.377617 54.875674 \r\nL 179.858516 106.097249 \r\nL 354.816309 51.954774 \r\nL 191.212305 102.583703 \r\nL 177.669833 106.774559 \r\nL 117.070691 125.527582 \r\nL 231.429343 90.13813 \r\nL 178.627382 106.478236 \r\nL 62.080048 142.544998 \r\nL 57.976269 143.814955 \r\nL 90.12254 133.866963 \r\nL 161.938679 111.642725 \r\nL 113.37729 126.670543 \r\nL 202.155717 99.197153 \r\nL 83.009323 136.06822 \r\nL 94.22632 132.597006 \r\nL 348.250262 53.986704 \r\nL 342.231386 55.849307 \r\nL 102.981049 129.887766 \r\nL 342.504971 55.764643 \r\nL 108.863133 128.067495 \r\nL 97.235758 131.665705 \r\nL 109.273511 127.940499 \r\nL 174.523603 107.748192 \r\nL 175.207566 107.536533 \r\nL 324.995513 61.183124 \r\nL 335.938924 57.796573 \r\nL 94.910283 132.385347 \r\nL 114.608424 126.289556 \r\nL 316.377576 63.850032 \r\nL 354.542724 52.039438 \r\nL 115.839558 125.908569 \r\nL 186.424563 104.065319 \r\nL 353.174798 52.462757 \r\nL 339.35874 56.738276 \r\nL 346.06158 54.664014 \r\nL 134.443357 120.151433 \r\nL 61.396085 142.756658 \r\nL 91.080089 133.570639 \r\nL 114.745216 126.247224 \r\nL 335.665339 57.881237 \r\nL 101.613122 130.311085 \r\nL 51.683807 145.762221 \r\nL 117.754655 125.315923 \r\nL 160.707545 112.023712 \r\nL 344.00969 55.298993 \r\nL 171.78775 108.59483 \r\nL 334.16062 58.346888 \r\nL 314.872857 64.315683 \r\nL 335.528546 57.923569 \r\nL 314.736064 64.358015 \r\nL 335.938924 57.796573 \r\nL 173.976432 107.91752 \r\nL 87.386687 134.7136 \r\nL 351.806871 52.886075 \r\nL 86.018761 135.136919 \r\nL 356.047443 51.573787 \r\nL 86.839517 134.882928 \r\nL 353.995553 52.208765 \r\nL 347.976677 54.071368 \r\n\" style=\"fill:none;stroke:#ff0000;stroke-linecap:square;stroke-width:1.5;\"/>\r\n   </g>\r\n   <g id=\"patch_3\">\r\n    <path d=\"M 36.465625 224.64 \r\nL 36.465625 7.2 \r\n\" style=\"fill:none;stroke:#000000;stroke-linecap:square;stroke-linejoin:miter;stroke-width:0.8;\"/>\r\n   </g>\r\n   <g id=\"patch_4\">\r\n    <path d=\"M 371.265625 224.64 \r\nL 371.265625 7.2 \r\n\" style=\"fill:none;stroke:#000000;stroke-linecap:square;stroke-linejoin:miter;stroke-width:0.8;\"/>\r\n   </g>\r\n   <g id=\"patch_5\">\r\n    <path d=\"M 36.465625 224.64 \r\nL 371.265625 224.64 \r\n\" style=\"fill:none;stroke:#000000;stroke-linecap:square;stroke-linejoin:miter;stroke-width:0.8;\"/>\r\n   </g>\r\n   <g id=\"patch_6\">\r\n    <path d=\"M 36.465625 7.2 \r\nL 371.265625 7.2 \r\n\" style=\"fill:none;stroke:#000000;stroke-linecap:square;stroke-linejoin:miter;stroke-width:0.8;\"/>\r\n   </g>\r\n  </g>\r\n </g>\r\n <defs>\r\n  <clipPath id=\"pd1247ced73\">\r\n   <rect height=\"217.44\" width=\"334.8\" x=\"36.465625\" y=\"7.2\"/>\r\n  </clipPath>\r\n </defs>\r\n</svg>\r\n",
      "image/png": "[encoded data removed]"
     },
     "metadata": {
      "needs_background": "light"
     }
    }
   ],
   "source": [
    "# Our predictions\n",
    "plt.scatter(y_test,predictions)\n",
    "\n",
    "# Perfect predictions\n",
    "plt.plot(y_test,y_test,'r')"
   ]
  },
  {
   "cell_type": "code",
   "execution_count": 40,
   "metadata": {},
   "outputs": [],
   "source": [
    "errors = y_test.values.reshape(60, 1) - predictions"
   ]
  },
  {
   "cell_type": "code",
   "execution_count": 41,
   "metadata": {},
   "outputs": [
    {
     "output_type": "execute_result",
     "data": {
      "text/plain": [
       "<matplotlib.axes._subplots.AxesSubplot at 0x1b13dfeff40>"
      ]
     },
     "metadata": {},
     "execution_count": 41
    },
    {
     "output_type": "display_data",
     "data": {
      "text/plain": "<Figure size 432x288 with 1 Axes>",
      "image/svg+xml": "<?xml version=\"1.0\" encoding=\"utf-8\" standalone=\"no\"?>\r\n<!DOCTYPE svg PUBLIC \"-//W3C//DTD SVG 1.1//EN\"\r\n  \"http://www.w3.org/Graphics/SVG/1.1/DTD/svg11.dtd\">\r\n<!-- Created with matplotlib (https://matplotlib.org/) -->\r\n<svg height=\"248.518125pt\" version=\"1.1\" viewBox=\"0 0 368.925 248.518125\" width=\"368.925pt\" xmlns=\"http://www.w3.org/2000/svg\" xmlns:xlink=\"http://www.w3.org/1999/xlink\">\r\n <defs>\r\n  <style type=\"text/css\">\r\n*{stroke-linecap:butt;stroke-linejoin:round;}\r\n  </style>\r\n </defs>\r\n <g id=\"figure_1\">\r\n  <g id=\"patch_1\">\r\n   <path d=\"M -0 248.518125 \r\nL 368.925 248.518125 \r\nL 368.925 0 \r\nL -0 0 \r\nz\r\n\" style=\"fill:none;\"/>\r\n  </g>\r\n  <g id=\"axes_1\">\r\n   <g id=\"patch_2\">\r\n    <path d=\"M 26.925 224.64 \r\nL 361.725 224.64 \r\nL 361.725 7.2 \r\nL 26.925 7.2 \r\nz\r\n\" style=\"fill:#ffffff;\"/>\r\n   </g>\r\n   <g id=\"patch_3\">\r\n    <path clip-path=\"url(#p842cf412cb)\" d=\"M 78.258574 224.64 \r\nL 94.839492 224.64 \r\nL 94.839492 192.780659 \r\nL 78.258574 192.780659 \r\nz\r\n\" style=\"fill:#1f77b4;opacity:0.4;\"/>\r\n   </g>\r\n   <g id=\"patch_4\">\r\n    <path clip-path=\"url(#p842cf412cb)\" d=\"M 94.839492 224.64 \r\nL 111.42041 224.64 \r\nL 111.42041 224.64 \r\nL 94.839492 224.64 \r\nz\r\n\" style=\"fill:#1f77b4;opacity:0.4;\"/>\r\n   </g>\r\n   <g id=\"patch_5\">\r\n    <path clip-path=\"url(#p842cf412cb)\" d=\"M 111.42041 224.64 \r\nL 128.001328 224.64 \r\nL 128.001328 144.991648 \r\nL 111.42041 144.991648 \r\nz\r\n\" style=\"fill:#1f77b4;opacity:0.4;\"/>\r\n   </g>\r\n   <g id=\"patch_6\">\r\n    <path clip-path=\"url(#p842cf412cb)\" d=\"M 128.001328 224.64 \r\nL 144.582246 224.64 \r\nL 144.582246 49.413626 \r\nL 128.001328 49.413626 \r\nz\r\n\" style=\"fill:#1f77b4;opacity:0.4;\"/>\r\n   </g>\r\n   <g id=\"patch_7\">\r\n    <path clip-path=\"url(#p842cf412cb)\" d=\"M 144.582246 224.64 \r\nL 161.163164 224.64 \r\nL 161.163164 17.554286 \r\nL 144.582246 17.554286 \r\nz\r\n\" style=\"fill:#1f77b4;opacity:0.4;\"/>\r\n   </g>\r\n   <g id=\"patch_8\">\r\n    <path clip-path=\"url(#p842cf412cb)\" d=\"M 161.163164 224.64 \r\nL 177.744082 224.64 \r\nL 177.744082 17.554286 \r\nL 161.163164 17.554286 \r\nz\r\n\" style=\"fill:#1f77b4;opacity:0.4;\"/>\r\n   </g>\r\n   <g id=\"patch_9\">\r\n    <path clip-path=\"url(#p842cf412cb)\" d=\"M 177.744082 224.64 \r\nL 194.325 224.64 \r\nL 194.325 113.132308 \r\nL 177.744082 113.132308 \r\nz\r\n\" style=\"fill:#1f77b4;opacity:0.4;\"/>\r\n   </g>\r\n   <g id=\"patch_10\">\r\n    <path clip-path=\"url(#p842cf412cb)\" d=\"M 194.325 224.64 \r\nL 210.905918 224.64 \r\nL 210.905918 176.850989 \r\nL 194.325 176.850989 \r\nz\r\n\" style=\"fill:#1f77b4;opacity:0.4;\"/>\r\n   </g>\r\n   <g id=\"patch_11\">\r\n    <path clip-path=\"url(#p842cf412cb)\" d=\"M 210.905918 224.64 \r\nL 227.486836 224.64 \r\nL 227.486836 176.850989 \r\nL 210.905918 176.850989 \r\nz\r\n\" style=\"fill:#1f77b4;opacity:0.4;\"/>\r\n   </g>\r\n   <g id=\"patch_12\">\r\n    <path clip-path=\"url(#p842cf412cb)\" d=\"M 227.486836 224.64 \r\nL 244.067754 224.64 \r\nL 244.067754 208.71033 \r\nL 227.486836 208.71033 \r\nz\r\n\" style=\"fill:#1f77b4;opacity:0.4;\"/>\r\n   </g>\r\n   <g id=\"patch_13\">\r\n    <path clip-path=\"url(#p842cf412cb)\" d=\"M 244.067754 224.64 \r\nL 260.648672 224.64 \r\nL 260.648672 224.64 \r\nL 244.067754 224.64 \r\nz\r\n\" style=\"fill:#1f77b4;opacity:0.4;\"/>\r\n   </g>\r\n   <g id=\"patch_14\">\r\n    <path clip-path=\"url(#p842cf412cb)\" d=\"M 260.648672 224.64 \r\nL 277.22959 224.64 \r\nL 277.22959 208.71033 \r\nL 260.648672 208.71033 \r\nz\r\n\" style=\"fill:#1f77b4;opacity:0.4;\"/>\r\n   </g>\r\n   <g id=\"patch_15\">\r\n    <path clip-path=\"url(#p842cf412cb)\" d=\"M 277.22959 224.64 \r\nL 293.810508 224.64 \r\nL 293.810508 224.64 \r\nL 277.22959 224.64 \r\nz\r\n\" style=\"fill:#1f77b4;opacity:0.4;\"/>\r\n   </g>\r\n   <g id=\"patch_16\">\r\n    <path clip-path=\"url(#p842cf412cb)\" d=\"M 293.810508 224.64 \r\nL 310.391426 224.64 \r\nL 310.391426 208.71033 \r\nL 293.810508 208.71033 \r\nz\r\n\" style=\"fill:#1f77b4;opacity:0.4;\"/>\r\n   </g>\r\n   <g id=\"matplotlib.axis_1\">\r\n    <g id=\"xtick_1\">\r\n     <g id=\"line2d_1\">\r\n      <defs>\r\n       <path d=\"M 0 0 \r\nL 0 3.5 \r\n\" id=\"mcd274a3f47\" style=\"stroke:#000000;stroke-width:0.8;\"/>\r\n      </defs>\r\n      <g>\r\n       <use style=\"stroke:#000000;stroke-width:0.8;\" x=\"56.786886\" xlink:href=\"#mcd274a3f47\" y=\"224.64\"/>\r\n      </g>\r\n     </g>\r\n     <g id=\"text_1\">\r\n      <!-- −0.02 -->\r\n      <defs>\r\n       <path d=\"M 10.59375 35.5 \r\nL 73.1875 35.5 \r\nL 73.1875 27.203125 \r\nL 10.59375 27.203125 \r\nz\r\n\" id=\"DejaVuSans-8722\"/>\r\n       <path d=\"M 31.78125 66.40625 \r\nQ 24.171875 66.40625 20.328125 58.90625 \r\nQ 16.5 51.421875 16.5 36.375 \r\nQ 16.5 21.390625 20.328125 13.890625 \r\nQ 24.171875 6.390625 31.78125 6.390625 \r\nQ 39.453125 6.390625 43.28125 13.890625 \r\nQ 47.125 21.390625 47.125 36.375 \r\nQ 47.125 51.421875 43.28125 58.90625 \r\nQ 39.453125 66.40625 31.78125 66.40625 \r\nz\r\nM 31.78125 74.21875 \r\nQ 44.046875 74.21875 50.515625 64.515625 \r\nQ 56.984375 54.828125 56.984375 36.375 \r\nQ 56.984375 17.96875 50.515625 8.265625 \r\nQ 44.046875 -1.421875 31.78125 -1.421875 \r\nQ 19.53125 -1.421875 13.0625 8.265625 \r\nQ 6.59375 17.96875 6.59375 36.375 \r\nQ 6.59375 54.828125 13.0625 64.515625 \r\nQ 19.53125 74.21875 31.78125 74.21875 \r\nz\r\n\" id=\"DejaVuSans-48\"/>\r\n       <path d=\"M 10.6875 12.40625 \r\nL 21 12.40625 \r\nL 21 0 \r\nL 10.6875 0 \r\nz\r\n\" id=\"DejaVuSans-46\"/>\r\n       <path d=\"M 19.1875 8.296875 \r\nL 53.609375 8.296875 \r\nL 53.609375 0 \r\nL 7.328125 0 \r\nL 7.328125 8.296875 \r\nQ 12.9375 14.109375 22.625 23.890625 \r\nQ 32.328125 33.6875 34.8125 36.53125 \r\nQ 39.546875 41.84375 41.421875 45.53125 \r\nQ 43.3125 49.21875 43.3125 52.78125 \r\nQ 43.3125 58.59375 39.234375 62.25 \r\nQ 35.15625 65.921875 28.609375 65.921875 \r\nQ 23.96875 65.921875 18.8125 64.3125 \r\nQ 13.671875 62.703125 7.8125 59.421875 \r\nL 7.8125 69.390625 \r\nQ 13.765625 71.78125 18.9375 73 \r\nQ 24.125 74.21875 28.421875 74.21875 \r\nQ 39.75 74.21875 46.484375 68.546875 \r\nQ 53.21875 62.890625 53.21875 53.421875 \r\nQ 53.21875 48.921875 51.53125 44.890625 \r\nQ 49.859375 40.875 45.40625 35.40625 \r\nQ 44.1875 33.984375 37.640625 27.21875 \r\nQ 31.109375 20.453125 19.1875 8.296875 \r\nz\r\n\" id=\"DejaVuSans-50\"/>\r\n      </defs>\r\n      <g transform=\"translate(41.46423 239.238437)scale(0.1 -0.1)\">\r\n       <use xlink:href=\"#DejaVuSans-8722\"/>\r\n       <use x=\"83.789062\" xlink:href=\"#DejaVuSans-48\"/>\r\n       <use x=\"147.412109\" xlink:href=\"#DejaVuSans-46\"/>\r\n       <use x=\"179.199219\" xlink:href=\"#DejaVuSans-48\"/>\r\n       <use x=\"242.822266\" xlink:href=\"#DejaVuSans-50\"/>\r\n      </g>\r\n     </g>\r\n    </g>\r\n    <g id=\"xtick_2\">\r\n     <g id=\"line2d_2\">\r\n      <g>\r\n       <use style=\"stroke:#000000;stroke-width:0.8;\" x=\"113.770541\" xlink:href=\"#mcd274a3f47\" y=\"224.64\"/>\r\n      </g>\r\n     </g>\r\n     <g id=\"text_2\">\r\n      <!-- −0.01 -->\r\n      <defs>\r\n       <path d=\"M 12.40625 8.296875 \r\nL 28.515625 8.296875 \r\nL 28.515625 63.921875 \r\nL 10.984375 60.40625 \r\nL 10.984375 69.390625 \r\nL 28.421875 72.90625 \r\nL 38.28125 72.90625 \r\nL 38.28125 8.296875 \r\nL 54.390625 8.296875 \r\nL 54.390625 0 \r\nL 12.40625 0 \r\nz\r\n\" id=\"DejaVuSans-49\"/>\r\n      </defs>\r\n      <g transform=\"translate(98.447885 239.238437)scale(0.1 -0.1)\">\r\n       <use xlink:href=\"#DejaVuSans-8722\"/>\r\n       <use x=\"83.789062\" xlink:href=\"#DejaVuSans-48\"/>\r\n       <use x=\"147.412109\" xlink:href=\"#DejaVuSans-46\"/>\r\n       <use x=\"179.199219\" xlink:href=\"#DejaVuSans-48\"/>\r\n       <use x=\"242.822266\" xlink:href=\"#DejaVuSans-49\"/>\r\n      </g>\r\n     </g>\r\n    </g>\r\n    <g id=\"xtick_3\">\r\n     <g id=\"line2d_3\">\r\n      <g>\r\n       <use style=\"stroke:#000000;stroke-width:0.8;\" x=\"170.754196\" xlink:href=\"#mcd274a3f47\" y=\"224.64\"/>\r\n      </g>\r\n     </g>\r\n     <g id=\"text_3\">\r\n      <!-- 0.00 -->\r\n      <g transform=\"translate(159.621384 239.238437)scale(0.1 -0.1)\">\r\n       <use xlink:href=\"#DejaVuSans-48\"/>\r\n       <use x=\"63.623047\" xlink:href=\"#DejaVuSans-46\"/>\r\n       <use x=\"95.410156\" xlink:href=\"#DejaVuSans-48\"/>\r\n       <use x=\"159.033203\" xlink:href=\"#DejaVuSans-48\"/>\r\n      </g>\r\n     </g>\r\n    </g>\r\n    <g id=\"xtick_4\">\r\n     <g id=\"line2d_4\">\r\n      <g>\r\n       <use style=\"stroke:#000000;stroke-width:0.8;\" x=\"227.737851\" xlink:href=\"#mcd274a3f47\" y=\"224.64\"/>\r\n      </g>\r\n     </g>\r\n     <g id=\"text_4\">\r\n      <!-- 0.01 -->\r\n      <g transform=\"translate(216.605038 239.238437)scale(0.1 -0.1)\">\r\n       <use xlink:href=\"#DejaVuSans-48\"/>\r\n       <use x=\"63.623047\" xlink:href=\"#DejaVuSans-46\"/>\r\n       <use x=\"95.410156\" xlink:href=\"#DejaVuSans-48\"/>\r\n       <use x=\"159.033203\" xlink:href=\"#DejaVuSans-49\"/>\r\n      </g>\r\n     </g>\r\n    </g>\r\n    <g id=\"xtick_5\">\r\n     <g id=\"line2d_5\">\r\n      <g>\r\n       <use style=\"stroke:#000000;stroke-width:0.8;\" x=\"284.721506\" xlink:href=\"#mcd274a3f47\" y=\"224.64\"/>\r\n      </g>\r\n     </g>\r\n     <g id=\"text_5\">\r\n      <!-- 0.02 -->\r\n      <g transform=\"translate(273.588693 239.238437)scale(0.1 -0.1)\">\r\n       <use xlink:href=\"#DejaVuSans-48\"/>\r\n       <use x=\"63.623047\" xlink:href=\"#DejaVuSans-46\"/>\r\n       <use x=\"95.410156\" xlink:href=\"#DejaVuSans-48\"/>\r\n       <use x=\"159.033203\" xlink:href=\"#DejaVuSans-50\"/>\r\n      </g>\r\n     </g>\r\n    </g>\r\n    <g id=\"xtick_6\">\r\n     <g id=\"line2d_6\">\r\n      <g>\r\n       <use style=\"stroke:#000000;stroke-width:0.8;\" x=\"341.705161\" xlink:href=\"#mcd274a3f47\" y=\"224.64\"/>\r\n      </g>\r\n     </g>\r\n     <g id=\"text_6\">\r\n      <!-- 0.03 -->\r\n      <defs>\r\n       <path d=\"M 40.578125 39.3125 \r\nQ 47.65625 37.796875 51.625 33 \r\nQ 55.609375 28.21875 55.609375 21.1875 \r\nQ 55.609375 10.40625 48.1875 4.484375 \r\nQ 40.765625 -1.421875 27.09375 -1.421875 \r\nQ 22.515625 -1.421875 17.65625 -0.515625 \r\nQ 12.796875 0.390625 7.625 2.203125 \r\nL 7.625 11.71875 \r\nQ 11.71875 9.328125 16.59375 8.109375 \r\nQ 21.484375 6.890625 26.8125 6.890625 \r\nQ 36.078125 6.890625 40.9375 10.546875 \r\nQ 45.796875 14.203125 45.796875 21.1875 \r\nQ 45.796875 27.640625 41.28125 31.265625 \r\nQ 36.765625 34.90625 28.71875 34.90625 \r\nL 20.21875 34.90625 \r\nL 20.21875 43.015625 \r\nL 29.109375 43.015625 \r\nQ 36.375 43.015625 40.234375 45.921875 \r\nQ 44.09375 48.828125 44.09375 54.296875 \r\nQ 44.09375 59.90625 40.109375 62.90625 \r\nQ 36.140625 65.921875 28.71875 65.921875 \r\nQ 24.65625 65.921875 20.015625 65.03125 \r\nQ 15.375 64.15625 9.8125 62.3125 \r\nL 9.8125 71.09375 \r\nQ 15.4375 72.65625 20.34375 73.4375 \r\nQ 25.25 74.21875 29.59375 74.21875 \r\nQ 40.828125 74.21875 47.359375 69.109375 \r\nQ 53.90625 64.015625 53.90625 55.328125 \r\nQ 53.90625 49.265625 50.4375 45.09375 \r\nQ 46.96875 40.921875 40.578125 39.3125 \r\nz\r\n\" id=\"DejaVuSans-51\"/>\r\n      </defs>\r\n      <g transform=\"translate(330.572348 239.238437)scale(0.1 -0.1)\">\r\n       <use xlink:href=\"#DejaVuSans-48\"/>\r\n       <use x=\"63.623047\" xlink:href=\"#DejaVuSans-46\"/>\r\n       <use x=\"95.410156\" xlink:href=\"#DejaVuSans-48\"/>\r\n       <use x=\"159.033203\" xlink:href=\"#DejaVuSans-51\"/>\r\n      </g>\r\n     </g>\r\n    </g>\r\n   </g>\r\n   <g id=\"matplotlib.axis_2\">\r\n    <g id=\"ytick_1\">\r\n     <g id=\"line2d_7\">\r\n      <defs>\r\n       <path d=\"M 0 0 \r\nL -3.5 0 \r\n\" id=\"m82c914610d\" style=\"stroke:#000000;stroke-width:0.8;\"/>\r\n      </defs>\r\n      <g>\r\n       <use style=\"stroke:#000000;stroke-width:0.8;\" x=\"26.925\" xlink:href=\"#m82c914610d\" y=\"224.64\"/>\r\n      </g>\r\n     </g>\r\n     <g id=\"text_7\">\r\n      <!-- 0 -->\r\n      <g transform=\"translate(13.5625 228.439219)scale(0.1 -0.1)\">\r\n       <use xlink:href=\"#DejaVuSans-48\"/>\r\n      </g>\r\n     </g>\r\n    </g>\r\n    <g id=\"ytick_2\">\r\n     <g id=\"line2d_8\">\r\n      <g>\r\n       <use style=\"stroke:#000000;stroke-width:0.8;\" x=\"26.925\" xlink:href=\"#m82c914610d\" y=\"196.829019\"/>\r\n      </g>\r\n     </g>\r\n     <g id=\"text_8\">\r\n      <!-- 10 -->\r\n      <g transform=\"translate(7.2 200.628238)scale(0.1 -0.1)\">\r\n       <use xlink:href=\"#DejaVuSans-49\"/>\r\n       <use x=\"63.623047\" xlink:href=\"#DejaVuSans-48\"/>\r\n      </g>\r\n     </g>\r\n    </g>\r\n    <g id=\"ytick_3\">\r\n     <g id=\"line2d_9\">\r\n      <g>\r\n       <use style=\"stroke:#000000;stroke-width:0.8;\" x=\"26.925\" xlink:href=\"#m82c914610d\" y=\"169.018038\"/>\r\n      </g>\r\n     </g>\r\n     <g id=\"text_9\">\r\n      <!-- 20 -->\r\n      <g transform=\"translate(7.2 172.817257)scale(0.1 -0.1)\">\r\n       <use xlink:href=\"#DejaVuSans-50\"/>\r\n       <use x=\"63.623047\" xlink:href=\"#DejaVuSans-48\"/>\r\n      </g>\r\n     </g>\r\n    </g>\r\n    <g id=\"ytick_4\">\r\n     <g id=\"line2d_10\">\r\n      <g>\r\n       <use style=\"stroke:#000000;stroke-width:0.8;\" x=\"26.925\" xlink:href=\"#m82c914610d\" y=\"141.207057\"/>\r\n      </g>\r\n     </g>\r\n     <g id=\"text_10\">\r\n      <!-- 30 -->\r\n      <g transform=\"translate(7.2 145.006276)scale(0.1 -0.1)\">\r\n       <use xlink:href=\"#DejaVuSans-51\"/>\r\n       <use x=\"63.623047\" xlink:href=\"#DejaVuSans-48\"/>\r\n      </g>\r\n     </g>\r\n    </g>\r\n    <g id=\"ytick_5\">\r\n     <g id=\"line2d_11\">\r\n      <g>\r\n       <use style=\"stroke:#000000;stroke-width:0.8;\" x=\"26.925\" xlink:href=\"#m82c914610d\" y=\"113.396076\"/>\r\n      </g>\r\n     </g>\r\n     <g id=\"text_11\">\r\n      <!-- 40 -->\r\n      <defs>\r\n       <path d=\"M 37.796875 64.3125 \r\nL 12.890625 25.390625 \r\nL 37.796875 25.390625 \r\nz\r\nM 35.203125 72.90625 \r\nL 47.609375 72.90625 \r\nL 47.609375 25.390625 \r\nL 58.015625 25.390625 \r\nL 58.015625 17.1875 \r\nL 47.609375 17.1875 \r\nL 47.609375 0 \r\nL 37.796875 0 \r\nL 37.796875 17.1875 \r\nL 4.890625 17.1875 \r\nL 4.890625 26.703125 \r\nz\r\n\" id=\"DejaVuSans-52\"/>\r\n      </defs>\r\n      <g transform=\"translate(7.2 117.195295)scale(0.1 -0.1)\">\r\n       <use xlink:href=\"#DejaVuSans-52\"/>\r\n       <use x=\"63.623047\" xlink:href=\"#DejaVuSans-48\"/>\r\n      </g>\r\n     </g>\r\n    </g>\r\n    <g id=\"ytick_6\">\r\n     <g id=\"line2d_12\">\r\n      <g>\r\n       <use style=\"stroke:#000000;stroke-width:0.8;\" x=\"26.925\" xlink:href=\"#m82c914610d\" y=\"85.585095\"/>\r\n      </g>\r\n     </g>\r\n     <g id=\"text_12\">\r\n      <!-- 50 -->\r\n      <defs>\r\n       <path d=\"M 10.796875 72.90625 \r\nL 49.515625 72.90625 \r\nL 49.515625 64.59375 \r\nL 19.828125 64.59375 \r\nL 19.828125 46.734375 \r\nQ 21.96875 47.46875 24.109375 47.828125 \r\nQ 26.265625 48.1875 28.421875 48.1875 \r\nQ 40.625 48.1875 47.75 41.5 \r\nQ 54.890625 34.8125 54.890625 23.390625 \r\nQ 54.890625 11.625 47.5625 5.09375 \r\nQ 40.234375 -1.421875 26.90625 -1.421875 \r\nQ 22.3125 -1.421875 17.546875 -0.640625 \r\nQ 12.796875 0.140625 7.71875 1.703125 \r\nL 7.71875 11.625 \r\nQ 12.109375 9.234375 16.796875 8.0625 \r\nQ 21.484375 6.890625 26.703125 6.890625 \r\nQ 35.15625 6.890625 40.078125 11.328125 \r\nQ 45.015625 15.765625 45.015625 23.390625 \r\nQ 45.015625 31 40.078125 35.4375 \r\nQ 35.15625 39.890625 26.703125 39.890625 \r\nQ 22.75 39.890625 18.8125 39.015625 \r\nQ 14.890625 38.140625 10.796875 36.28125 \r\nz\r\n\" id=\"DejaVuSans-53\"/>\r\n      </defs>\r\n      <g transform=\"translate(7.2 89.384314)scale(0.1 -0.1)\">\r\n       <use xlink:href=\"#DejaVuSans-53\"/>\r\n       <use x=\"63.623047\" xlink:href=\"#DejaVuSans-48\"/>\r\n      </g>\r\n     </g>\r\n    </g>\r\n    <g id=\"ytick_7\">\r\n     <g id=\"line2d_13\">\r\n      <g>\r\n       <use style=\"stroke:#000000;stroke-width:0.8;\" x=\"26.925\" xlink:href=\"#m82c914610d\" y=\"57.774115\"/>\r\n      </g>\r\n     </g>\r\n     <g id=\"text_13\">\r\n      <!-- 60 -->\r\n      <defs>\r\n       <path d=\"M 33.015625 40.375 \r\nQ 26.375 40.375 22.484375 35.828125 \r\nQ 18.609375 31.296875 18.609375 23.390625 \r\nQ 18.609375 15.53125 22.484375 10.953125 \r\nQ 26.375 6.390625 33.015625 6.390625 \r\nQ 39.65625 6.390625 43.53125 10.953125 \r\nQ 47.40625 15.53125 47.40625 23.390625 \r\nQ 47.40625 31.296875 43.53125 35.828125 \r\nQ 39.65625 40.375 33.015625 40.375 \r\nz\r\nM 52.59375 71.296875 \r\nL 52.59375 62.3125 \r\nQ 48.875 64.0625 45.09375 64.984375 \r\nQ 41.3125 65.921875 37.59375 65.921875 \r\nQ 27.828125 65.921875 22.671875 59.328125 \r\nQ 17.53125 52.734375 16.796875 39.40625 \r\nQ 19.671875 43.65625 24.015625 45.921875 \r\nQ 28.375 48.1875 33.59375 48.1875 \r\nQ 44.578125 48.1875 50.953125 41.515625 \r\nQ 57.328125 34.859375 57.328125 23.390625 \r\nQ 57.328125 12.15625 50.6875 5.359375 \r\nQ 44.046875 -1.421875 33.015625 -1.421875 \r\nQ 20.359375 -1.421875 13.671875 8.265625 \r\nQ 6.984375 17.96875 6.984375 36.375 \r\nQ 6.984375 53.65625 15.1875 63.9375 \r\nQ 23.390625 74.21875 37.203125 74.21875 \r\nQ 40.921875 74.21875 44.703125 73.484375 \r\nQ 48.484375 72.75 52.59375 71.296875 \r\nz\r\n\" id=\"DejaVuSans-54\"/>\r\n      </defs>\r\n      <g transform=\"translate(7.2 61.573333)scale(0.1 -0.1)\">\r\n       <use xlink:href=\"#DejaVuSans-54\"/>\r\n       <use x=\"63.623047\" xlink:href=\"#DejaVuSans-48\"/>\r\n      </g>\r\n     </g>\r\n    </g>\r\n    <g id=\"ytick_8\">\r\n     <g id=\"line2d_14\">\r\n      <g>\r\n       <use style=\"stroke:#000000;stroke-width:0.8;\" x=\"26.925\" xlink:href=\"#m82c914610d\" y=\"29.963134\"/>\r\n      </g>\r\n     </g>\r\n     <g id=\"text_14\">\r\n      <!-- 70 -->\r\n      <defs>\r\n       <path d=\"M 8.203125 72.90625 \r\nL 55.078125 72.90625 \r\nL 55.078125 68.703125 \r\nL 28.609375 0 \r\nL 18.3125 0 \r\nL 43.21875 64.59375 \r\nL 8.203125 64.59375 \r\nz\r\n\" id=\"DejaVuSans-55\"/>\r\n      </defs>\r\n      <g transform=\"translate(7.2 33.762352)scale(0.1 -0.1)\">\r\n       <use xlink:href=\"#DejaVuSans-55\"/>\r\n       <use x=\"63.623047\" xlink:href=\"#DejaVuSans-48\"/>\r\n      </g>\r\n     </g>\r\n    </g>\r\n   </g>\r\n   <g id=\"line2d_15\">\r\n    <path clip-path=\"url(#p842cf412cb)\" d=\"M 42.143182 224.48046 \r\nL 46.93631 224.307631 \r\nL 51.729438 223.803259 \r\nL 54.126002 223.361999 \r\nL 56.522566 222.754436 \r\nL 58.91913 221.954955 \r\nL 61.315694 220.948912 \r\nL 63.712258 219.738738 \r\nL 66.108822 218.348539 \r\nL 75.695079 212.217091 \r\nL 78.091643 210.953275 \r\nL 80.488207 209.945567 \r\nL 82.884771 209.226346 \r\nL 85.281335 208.786795 \r\nL 87.677899 208.569707 \r\nL 92.471027 208.314613 \r\nL 94.867591 207.909843 \r\nL 97.264155 207.011346 \r\nL 99.660719 205.362324 \r\nL 102.057283 202.711887 \r\nL 104.453848 198.840837 \r\nL 106.850412 193.58782 \r\nL 109.246976 186.872119 \r\nL 111.64354 178.708997 \r\nL 114.040104 169.213834 \r\nL 116.436668 158.592626 \r\nL 118.833232 147.118812 \r\nL 130.816052 86.998679 \r\nL 133.212616 75.903927 \r\nL 135.60918 65.429419 \r\nL 138.005744 55.704015 \r\nL 140.402309 46.890871 \r\nL 142.798873 39.180318 \r\nL 145.195437 32.760853 \r\nL 147.592001 27.777375 \r\nL 149.988565 24.29219 \r\nL 152.385129 22.264864 \r\nL 154.781693 21.561224 \r\nL 157.178257 21.991493 \r\nL 159.574821 23.366709 \r\nL 161.971385 25.555385 \r\nL 164.367949 28.521663 \r\nL 166.764513 32.332233 \r\nL 169.161077 37.129621 \r\nL 171.557641 43.080197 \r\nL 173.954205 50.312532 \r\nL 176.35077 58.863456 \r\nL 178.747334 68.645301 \r\nL 181.143898 79.440507 \r\nL 190.730154 125.43302 \r\nL 193.126718 135.669092 \r\nL 195.523282 144.79004 \r\nL 197.919846 152.655093 \r\nL 200.31641 159.232538 \r\nL 202.712974 164.591605 \r\nL 205.109538 168.884673 \r\nL 207.506102 172.322471 \r\nL 209.902666 175.14584 \r\nL 214.695795 179.90133 \r\nL 217.092359 182.239594 \r\nL 219.488923 184.74834 \r\nL 221.885487 187.510263 \r\nL 224.282051 190.555204 \r\nL 226.678615 193.862977 \r\nL 236.264871 207.93456 \r\nL 238.661435 211.01918 \r\nL 241.057999 213.672724 \r\nL 243.454563 215.805856 \r\nL 245.851127 217.368637 \r\nL 248.247691 218.354683 \r\nL 250.644256 218.800966 \r\nL 253.04082 218.783888 \r\nL 255.437384 218.412251 \r\nL 265.02364 216.071978 \r\nL 267.420204 215.882298 \r\nL 269.816768 215.992619 \r\nL 272.213332 216.398154 \r\nL 274.609896 217.050483 \r\nL 284.196152 220.254487 \r\nL 286.592717 220.707674 \r\nL 288.989281 220.880711 \r\nL 291.385845 220.75375 \r\nL 293.782409 220.340861 \r\nL 296.178973 219.68907 \r\nL 305.765229 216.483092 \r\nL 308.161793 216.048491 \r\nL 310.558357 215.920327 \r\nL 312.954921 216.121359 \r\nL 315.351485 216.633301 \r\nL 317.748049 217.401722 \r\nL 322.541178 219.378714 \r\nL 327.334306 221.36998 \r\nL 329.73087 222.209007 \r\nL 332.127434 222.901893 \r\nL 334.523998 223.444324 \r\nL 336.920562 223.847451 \r\nL 341.71369 224.318791 \r\nL 346.506818 224.481852 \r\nL 346.506818 224.481852 \r\n\" style=\"fill:none;stroke:#1f77b4;stroke-linecap:square;stroke-width:1.5;\"/>\r\n   </g>\r\n   <g id=\"patch_17\">\r\n    <path d=\"M 26.925 224.64 \r\nL 26.925 7.2 \r\n\" style=\"fill:none;stroke:#000000;stroke-linecap:square;stroke-linejoin:miter;stroke-width:0.8;\"/>\r\n   </g>\r\n   <g id=\"patch_18\">\r\n    <path d=\"M 361.725 224.64 \r\nL 361.725 7.2 \r\n\" style=\"fill:none;stroke:#000000;stroke-linecap:square;stroke-linejoin:miter;stroke-width:0.8;\"/>\r\n   </g>\r\n   <g id=\"patch_19\">\r\n    <path d=\"M 26.925 224.64 \r\nL 361.725 224.64 \r\n\" style=\"fill:none;stroke:#000000;stroke-linecap:square;stroke-linejoin:miter;stroke-width:0.8;\"/>\r\n   </g>\r\n   <g id=\"patch_20\">\r\n    <path d=\"M 26.925 7.2 \r\nL 361.725 7.2 \r\n\" style=\"fill:none;stroke:#000000;stroke-linecap:square;stroke-linejoin:miter;stroke-width:0.8;\"/>\r\n   </g>\r\n  </g>\r\n </g>\r\n <defs>\r\n  <clipPath id=\"p842cf412cb\">\r\n   <rect height=\"217.44\" width=\"334.8\" x=\"26.925\" y=\"7.2\"/>\r\n  </clipPath>\r\n </defs>\r\n</svg>\r\n",
      "image/png": "[encoded data removed]"
     },
     "metadata": {
      "needs_background": "light"
     }
    }
   ],
   "source": [
    "sns.distplot(errors)"
   ]
  },
  {
   "cell_type": "markdown",
   "metadata": {},
   "source": [
    "-------------\n",
    "### Predicting on a brand new house"
   ]
  },
  {
   "cell_type": "code",
   "execution_count": 246,
   "metadata": {},
   "outputs": [
    {
     "output_type": "execute_result",
     "data": {
      "text/plain": [
       "      open     high      low  tick_volume\n",
       "0  1.39436  1.39525  1.39436          995\n",
       "1  1.39444  1.39576  1.39411          750\n",
       "2  1.39564  1.39584  1.39473          663\n",
       "3  1.39512  1.39586  1.39471          891\n",
       "4  1.39469  1.39622  1.39454         1133\n",
       "5  1.39564  1.39574  1.39498         1058\n",
       "6  1.39557  1.39615  1.39483         1665\n",
       "7  1.39524  1.39524  1.39224         1190\n",
       "8  1.39273  1.39323  1.39198         1331\n",
       "9  1.39274  1.39407  1.39263         1028"
      ],
      "text/html": "<div>\n<style scoped>\n    .dataframe tbody tr th:only-of-type {\n        vertical-align: middle;\n    }\n\n    .dataframe tbody tr th {\n        vertical-align: top;\n    }\n\n    .dataframe thead th {\n        text-align: right;\n    }\n</style>\n<table border=\"1\" class=\"dataframe\">\n  <thead>\n    <tr style=\"text-align: right;\">\n      <th></th>\n      <th>open</th>\n      <th>high</th>\n      <th>low</th>\n      <th>tick_volume</th>\n    </tr>\n  </thead>\n  <tbody>\n    <tr>\n      <th>0</th>\n      <td>1.39436</td>\n      <td>1.39525</td>\n      <td>1.39436</td>\n      <td>995</td>\n    </tr>\n    <tr>\n      <th>1</th>\n      <td>1.39444</td>\n      <td>1.39576</td>\n      <td>1.39411</td>\n      <td>750</td>\n    </tr>\n    <tr>\n      <th>2</th>\n      <td>1.39564</td>\n      <td>1.39584</td>\n      <td>1.39473</td>\n      <td>663</td>\n    </tr>\n    <tr>\n      <th>3</th>\n      <td>1.39512</td>\n      <td>1.39586</td>\n      <td>1.39471</td>\n      <td>891</td>\n    </tr>\n    <tr>\n      <th>4</th>\n      <td>1.39469</td>\n      <td>1.39622</td>\n      <td>1.39454</td>\n      <td>1133</td>\n    </tr>\n    <tr>\n      <th>5</th>\n      <td>1.39564</td>\n      <td>1.39574</td>\n      <td>1.39498</td>\n      <td>1058</td>\n    </tr>\n    <tr>\n      <th>6</th>\n      <td>1.39557</td>\n      <td>1.39615</td>\n      <td>1.39483</td>\n      <td>1665</td>\n    </tr>\n    <tr>\n      <th>7</th>\n      <td>1.39524</td>\n      <td>1.39524</td>\n      <td>1.39224</td>\n      <td>1190</td>\n    </tr>\n    <tr>\n      <th>8</th>\n      <td>1.39273</td>\n      <td>1.39323</td>\n      <td>1.39198</td>\n      <td>1331</td>\n    </tr>\n    <tr>\n      <th>9</th>\n      <td>1.39274</td>\n      <td>1.39407</td>\n      <td>1.39263</td>\n      <td>1028</td>\n    </tr>\n  </tbody>\n</table>\n</div>"
     },
     "metadata": {},
     "execution_count": 246
    }
   ],
   "source": [
    "single_house = df.drop('price',axis=1).iloc[0]\n",
    "new_market_data = mt5.copy_rates_from(Symbol_Trade,mt5.TIMEFRAME_M15,datetime.now(),10)\n",
    "new_market_data= pd.DataFrame(new_market_data)\n",
    "new_market_data = new_market_data.drop(['time','close','real_volume','spread'], axis = 1)\n",
    "new_market_data"
   ]
  },
  {
   "cell_type": "code",
   "execution_count": 247,
   "metadata": {},
   "outputs": [
    {
     "output_type": "error",
     "ename": "ValueError",
     "evalue": "X has 19 features, but MinMaxScaler is expecting 4 features as input.",
     "traceback": [
      "\u001b[1;31m---------------------------------------------------------------------------\u001b[0m",
      "\u001b[1;31mValueError\u001b[0m                                Traceback (most recent call last)",
      "\u001b[1;32m<ipython-input-247-65b7cee5c1b8>\u001b[0m in \u001b[0;36m<module>\u001b[1;34m\u001b[0m\n\u001b[1;32m----> 1\u001b[1;33m \u001b[0msingle_house\u001b[0m \u001b[1;33m=\u001b[0m \u001b[0mscaler\u001b[0m\u001b[1;33m.\u001b[0m\u001b[0mtransform\u001b[0m\u001b[1;33m(\u001b[0m\u001b[0msingle_house\u001b[0m\u001b[1;33m.\u001b[0m\u001b[0mvalues\u001b[0m\u001b[1;33m.\u001b[0m\u001b[0mreshape\u001b[0m\u001b[1;33m(\u001b[0m\u001b[1;33m-\u001b[0m\u001b[1;36m1\u001b[0m\u001b[1;33m,\u001b[0m \u001b[1;36m19\u001b[0m\u001b[1;33m)\u001b[0m\u001b[1;33m)\u001b[0m\u001b[1;33m\u001b[0m\u001b[1;33m\u001b[0m\u001b[0m\n\u001b[0m\u001b[0;32m      2\u001b[0m \u001b[0mnew_market_data\u001b[0m \u001b[1;33m=\u001b[0m \u001b[0mscaler\u001b[0m\u001b[1;33m.\u001b[0m\u001b[0mtransform\u001b[0m\u001b[1;33m(\u001b[0m\u001b[0mnew_market_data\u001b[0m\u001b[1;33m.\u001b[0m\u001b[0mvalues\u001b[0m\u001b[1;33m.\u001b[0m\u001b[0mreshape\u001b[0m\u001b[1;33m(\u001b[0m\u001b[1;33m-\u001b[0m\u001b[1;36m1\u001b[0m\u001b[1;33m,\u001b[0m\u001b[1;36m4\u001b[0m\u001b[1;33m)\u001b[0m\u001b[1;33m)\u001b[0m\u001b[1;33m\u001b[0m\u001b[1;33m\u001b[0m\u001b[0m\n",
      "\u001b[1;32m~\\Anaconda3\\lib\\site-packages\\sklearn\\preprocessing\\_data.py\u001b[0m in \u001b[0;36mtransform\u001b[1;34m(self, X)\u001b[0m\n\u001b[0;32m    432\u001b[0m         \u001b[0mcheck_is_fitted\u001b[0m\u001b[1;33m(\u001b[0m\u001b[0mself\u001b[0m\u001b[1;33m)\u001b[0m\u001b[1;33m\u001b[0m\u001b[1;33m\u001b[0m\u001b[0m\n\u001b[0;32m    433\u001b[0m \u001b[1;33m\u001b[0m\u001b[0m\n\u001b[1;32m--> 434\u001b[1;33m         X = self._validate_data(X, copy=self.copy, dtype=FLOAT_DTYPES,\n\u001b[0m\u001b[0;32m    435\u001b[0m                                 force_all_finite=\"allow-nan\", reset=False)\n\u001b[0;32m    436\u001b[0m \u001b[1;33m\u001b[0m\u001b[0m\n",
      "\u001b[1;32m~\\Anaconda3\\lib\\site-packages\\sklearn\\base.py\u001b[0m in \u001b[0;36m_validate_data\u001b[1;34m(self, X, y, reset, validate_separately, **check_params)\u001b[0m\n\u001b[0;32m    435\u001b[0m \u001b[1;33m\u001b[0m\u001b[0m\n\u001b[0;32m    436\u001b[0m         \u001b[1;32mif\u001b[0m \u001b[0mcheck_params\u001b[0m\u001b[1;33m.\u001b[0m\u001b[0mget\u001b[0m\u001b[1;33m(\u001b[0m\u001b[1;34m'ensure_2d'\u001b[0m\u001b[1;33m,\u001b[0m \u001b[1;32mTrue\u001b[0m\u001b[1;33m)\u001b[0m\u001b[1;33m:\u001b[0m\u001b[1;33m\u001b[0m\u001b[1;33m\u001b[0m\u001b[0m\n\u001b[1;32m--> 437\u001b[1;33m             \u001b[0mself\u001b[0m\u001b[1;33m.\u001b[0m\u001b[0m_check_n_features\u001b[0m\u001b[1;33m(\u001b[0m\u001b[0mX\u001b[0m\u001b[1;33m,\u001b[0m \u001b[0mreset\u001b[0m\u001b[1;33m=\u001b[0m\u001b[0mreset\u001b[0m\u001b[1;33m)\u001b[0m\u001b[1;33m\u001b[0m\u001b[1;33m\u001b[0m\u001b[0m\n\u001b[0m\u001b[0;32m    438\u001b[0m \u001b[1;33m\u001b[0m\u001b[0m\n\u001b[0;32m    439\u001b[0m         \u001b[1;32mreturn\u001b[0m \u001b[0mout\u001b[0m\u001b[1;33m\u001b[0m\u001b[1;33m\u001b[0m\u001b[0m\n",
      "\u001b[1;32m~\\Anaconda3\\lib\\site-packages\\sklearn\\base.py\u001b[0m in \u001b[0;36m_check_n_features\u001b[1;34m(self, X, reset)\u001b[0m\n\u001b[0;32m    363\u001b[0m \u001b[1;33m\u001b[0m\u001b[0m\n\u001b[0;32m    364\u001b[0m         \u001b[1;32mif\u001b[0m \u001b[0mn_features\u001b[0m \u001b[1;33m!=\u001b[0m \u001b[0mself\u001b[0m\u001b[1;33m.\u001b[0m\u001b[0mn_features_in_\u001b[0m\u001b[1;33m:\u001b[0m\u001b[1;33m\u001b[0m\u001b[1;33m\u001b[0m\u001b[0m\n\u001b[1;32m--> 365\u001b[1;33m             raise ValueError(\n\u001b[0m\u001b[0;32m    366\u001b[0m                 \u001b[1;34mf\"X has {n_features} features, but {self.__class__.__name__} \"\u001b[0m\u001b[1;33m\u001b[0m\u001b[1;33m\u001b[0m\u001b[0m\n\u001b[0;32m    367\u001b[0m                 f\"is expecting {self.n_features_in_} features as input.\")\n",
      "\u001b[1;31mValueError\u001b[0m: X has 19 features, but MinMaxScaler is expecting 4 features as input."
     ]
    }
   ],
   "source": [
    "single_house = scaler.transform(single_house.values.reshape(-1, 19))\n",
    "new_market_data = scaler.transform(new_market_data.values.reshape(-1,4))"
   ]
  },
  {
   "cell_type": "code",
   "execution_count": 249,
   "metadata": {},
   "outputs": [
    {
     "output_type": "execute_result",
     "data": {
      "text/plain": [
       "      open     high      low  tick_volume\n",
       "0  1.39436  1.39525  1.39436          995\n",
       "1  1.39444  1.39576  1.39411          750\n",
       "2  1.39564  1.39584  1.39473          663\n",
       "3  1.39512  1.39586  1.39471          891\n",
       "4  1.39469  1.39622  1.39454         1133\n",
       "5  1.39564  1.39574  1.39498         1058\n",
       "6  1.39557  1.39615  1.39483         1665\n",
       "7  1.39524  1.39524  1.39224         1190\n",
       "8  1.39273  1.39323  1.39198         1331\n",
       "9  1.39274  1.39407  1.39263         1028"
      ],
      "text/html": "<div>\n<style scoped>\n    .dataframe tbody tr th:only-of-type {\n        vertical-align: middle;\n    }\n\n    .dataframe tbody tr th {\n        vertical-align: top;\n    }\n\n    .dataframe thead th {\n        text-align: right;\n    }\n</style>\n<table border=\"1\" class=\"dataframe\">\n  <thead>\n    <tr style=\"text-align: right;\">\n      <th></th>\n      <th>open</th>\n      <th>high</th>\n      <th>low</th>\n      <th>tick_volume</th>\n    </tr>\n  </thead>\n  <tbody>\n    <tr>\n      <th>0</th>\n      <td>1.39436</td>\n      <td>1.39525</td>\n      <td>1.39436</td>\n      <td>995</td>\n    </tr>\n    <tr>\n      <th>1</th>\n      <td>1.39444</td>\n      <td>1.39576</td>\n      <td>1.39411</td>\n      <td>750</td>\n    </tr>\n    <tr>\n      <th>2</th>\n      <td>1.39564</td>\n      <td>1.39584</td>\n      <td>1.39473</td>\n      <td>663</td>\n    </tr>\n    <tr>\n      <th>3</th>\n      <td>1.39512</td>\n      <td>1.39586</td>\n      <td>1.39471</td>\n      <td>891</td>\n    </tr>\n    <tr>\n      <th>4</th>\n      <td>1.39469</td>\n      <td>1.39622</td>\n      <td>1.39454</td>\n      <td>1133</td>\n    </tr>\n    <tr>\n      <th>5</th>\n      <td>1.39564</td>\n      <td>1.39574</td>\n      <td>1.39498</td>\n      <td>1058</td>\n    </tr>\n    <tr>\n      <th>6</th>\n      <td>1.39557</td>\n      <td>1.39615</td>\n      <td>1.39483</td>\n      <td>1665</td>\n    </tr>\n    <tr>\n      <th>7</th>\n      <td>1.39524</td>\n      <td>1.39524</td>\n      <td>1.39224</td>\n      <td>1190</td>\n    </tr>\n    <tr>\n      <th>8</th>\n      <td>1.39273</td>\n      <td>1.39323</td>\n      <td>1.39198</td>\n      <td>1331</td>\n    </tr>\n    <tr>\n      <th>9</th>\n      <td>1.39274</td>\n      <td>1.39407</td>\n      <td>1.39263</td>\n      <td>1028</td>\n    </tr>\n  </tbody>\n</table>\n</div>"
     },
     "metadata": {},
     "execution_count": 249
    }
   ],
   "source": [
    "single_house\n",
    "new_market_data"
   ]
  },
  {
   "cell_type": "code",
   "execution_count": 252,
   "metadata": {},
   "outputs": [
    {
     "output_type": "execute_result",
     "data": {
      "text/plain": [
       "array([[381.70047],\n",
       "       [287.91653],\n",
       "       [254.61275],\n",
       "       [341.8898 ],\n",
       "       [434.52606],\n",
       "       [405.81573],\n",
       "       [638.1711 ],\n",
       "       [456.3448 ],\n",
       "       [510.319  ],\n",
       "       [394.33325]], dtype=float32)"
      ]
     },
     "metadata": {},
     "execution_count": 252
    }
   ],
   "source": [
    "#model.predict(single_house)\n",
    "model_market.predict(new_market_data)"
   ]
  },
  {
   "cell_type": "code",
   "execution_count": 90,
   "metadata": {},
   "outputs": [
    {
     "data": {
      "text/plain": [
       "price            221900.0000\n",
       "bedrooms              3.0000\n",
       "bathrooms             1.0000\n",
       "sqft_living        1180.0000\n",
       "sqft_lot           5650.0000\n",
       "floors                1.0000\n",
       "waterfront            0.0000\n",
       "view                  0.0000\n",
       "condition             3.0000\n",
       "grade                 7.0000\n",
       "sqft_above         1180.0000\n",
       "sqft_basement         0.0000\n",
       "yr_built           1955.0000\n",
       "yr_renovated          0.0000\n",
       "lat                  47.5112\n",
       "long               -122.2570\n",
       "sqft_living15      1340.0000\n",
       "sqft_lot15         5650.0000\n",
       "month                10.0000\n",
       "year               2014.0000\n",
       "Name: 0, dtype: float64"
      ]
     },
     "execution_count": 90,
     "metadata": {},
     "output_type": "execute_result"
    }
   ],
   "source": [
    "df.iloc[0]"
   ]
  }
 ],
 "metadata": {
  "kernelspec": {
   "name": "python3",
   "display_name": "Python 3.8.3 64-bit ('base': conda)"
  },
  "language_info": {
   "codemirror_mode": {
    "name": "ipython",
    "version": 3
   },
   "file_extension": ".py",
   "mimetype": "text/x-python",
   "name": "python",
   "nbconvert_exporter": "python",
   "pygments_lexer": "ipython3",
   "version": "3.8.3"
  },
  "interpreter": {
   "hash": "cdd67ddaf6d362361a185deabd0f5a5727fb11b12e72eb53a0f9b9191c46561a"
  }
 },
 "nbformat": 4,
 "nbformat_minor": 2
}